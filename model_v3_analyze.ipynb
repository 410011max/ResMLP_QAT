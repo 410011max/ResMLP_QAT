{
 "cells": [
  {
   "cell_type": "code",
   "execution_count": 1,
   "metadata": {},
   "outputs": [
    {
     "name": "stderr",
     "output_type": "stream",
     "text": [
      "c:\\Users\\scott\\anaconda3\\envs\\pytorch\\lib\\site-packages\\tqdm\\auto.py:22: TqdmWarning: IProgress not found. Please update jupyter and ipywidgets. See https://ipywidgets.readthedocs.io/en/stable/user_install.html\n",
      "  from .autonotebook import tqdm as notebook_tqdm\n"
     ]
    }
   ],
   "source": [
    "import matplotlib.pyplot as plt\n",
    "from src.models import *\n",
    "from src.model_analysis.utils import same_output\n",
    "from src.post_quant.cle import cle_for_resmlp, cle_for_resmlp_v3\n",
    "from src.post_quant.bias_absorb import ba_for_resmlp\n",
    "from src.model_analysis.visualize import layer_dist, act_dist, simulate_input, scale_plot, add_value_labels, get_linear_layers\n",
    "\n",
    "org_model = resmlp_24_v3(pretrained=True).eval()\n",
    "model1 = resmlp_24(pretrained=True).eval()\n",
    "model2 = resmlp_24_v3(pretrained=True).eval()\n",
    "# print(same_output(model1, org_model, eps=1e-5))\n",
    "\n",
    "# model_norm = resmlp_24_norm(pretrained=False).eval()\n",
    "# model_norm.load_state_dict(torch.load(\"771.pth\")[\"model\"])\n",
    "# qmodel = q_resmlp_v3(model)\n",
    "\n",
    "# # test CLE\n",
    "# org_model = resmlp_24(pretrained=False).eval()\n",
    "# org_model.load_state_dict(torch.load(\"ResMLP_S24_ReLU_fp32_80.602.pth\"))\n",
    "# model = resmlp_24(pretrained=False).eval()\n",
    "# model.load_state_dict(torch.load(\"ResMLP_S24_ReLU_fp32_80.602.pth\"))\n",
    "# cle_for_resmlp(model)\n"
   ]
  },
  {
   "cell_type": "code",
   "execution_count": 16,
   "metadata": {},
   "outputs": [
    {
     "name": "stdout",
     "output_type": "stream",
     "text": [
      "----------------------------------------------------------------\n",
      "        Layer (type)               Output Shape         Param #\n",
      "================================================================\n",
      "            Conv2d-1          [-1, 384, 14, 14]         295,296\n",
      "          Identity-2             [-1, 196, 384]               0\n",
      "        PatchEmbed-3             [-1, 196, 384]               0\n",
      "            Linear-4             [-1, 196, 384]         147,840\n",
      "            Linear-5             [-1, 384, 196]          38,612\n",
      "            Linear-6             [-1, 196, 384]         147,456\n",
      "          Identity-7             [-1, 196, 384]               0\n",
      "          Identity-8             [-1, 196, 384]               0\n",
      "            Linear-9             [-1, 196, 384]         147,840\n",
      "           Linear-10            [-1, 196, 1536]         591,360\n",
      "             ReLU-11            [-1, 196, 1536]               0\n",
      "          Dropout-12            [-1, 196, 1536]               0\n",
      "           Linear-13             [-1, 196, 384]         590,208\n",
      "          Dropout-14             [-1, 196, 384]               0\n",
      "              Mlp-15             [-1, 196, 384]               0\n",
      "           Linear-16             [-1, 196, 384]         147,456\n",
      "         Identity-17             [-1, 196, 384]               0\n",
      "         Identity-18             [-1, 196, 384]               0\n",
      "layers_scale_mlp_blocks-19             [-1, 196, 384]               0\n",
      "           Linear-20             [-1, 196, 384]         147,840\n",
      "           Linear-21             [-1, 384, 196]          38,612\n",
      "           Linear-22             [-1, 196, 384]         147,456\n",
      "         Identity-23             [-1, 196, 384]               0\n",
      "         Identity-24             [-1, 196, 384]               0\n",
      "           Linear-25             [-1, 196, 384]         147,840\n",
      "           Linear-26            [-1, 196, 1536]         591,360\n",
      "             ReLU-27            [-1, 196, 1536]               0\n",
      "          Dropout-28            [-1, 196, 1536]               0\n",
      "           Linear-29             [-1, 196, 384]         590,208\n",
      "          Dropout-30             [-1, 196, 384]               0\n",
      "              Mlp-31             [-1, 196, 384]               0\n",
      "           Linear-32             [-1, 196, 384]         147,456\n",
      "         Identity-33             [-1, 196, 384]               0\n",
      "         Identity-34             [-1, 196, 384]               0\n",
      "layers_scale_mlp_blocks-35             [-1, 196, 384]               0\n",
      "           Linear-36             [-1, 196, 384]         147,840\n",
      "           Linear-37             [-1, 384, 196]          38,612\n",
      "           Linear-38             [-1, 196, 384]         147,456\n",
      "         Identity-39             [-1, 196, 384]               0\n",
      "         Identity-40             [-1, 196, 384]               0\n",
      "           Linear-41             [-1, 196, 384]         147,840\n",
      "           Linear-42            [-1, 196, 1536]         591,360\n",
      "             ReLU-43            [-1, 196, 1536]               0\n",
      "          Dropout-44            [-1, 196, 1536]               0\n",
      "           Linear-45             [-1, 196, 384]         590,208\n",
      "          Dropout-46             [-1, 196, 384]               0\n",
      "              Mlp-47             [-1, 196, 384]               0\n",
      "           Linear-48             [-1, 196, 384]         147,456\n",
      "         Identity-49             [-1, 196, 384]               0\n",
      "         Identity-50             [-1, 196, 384]               0\n",
      "layers_scale_mlp_blocks-51             [-1, 196, 384]               0\n",
      "           Linear-52             [-1, 196, 384]         147,840\n",
      "           Linear-53             [-1, 384, 196]          38,612\n",
      "           Linear-54             [-1, 196, 384]         147,456\n",
      "         Identity-55             [-1, 196, 384]               0\n",
      "         Identity-56             [-1, 196, 384]               0\n",
      "           Linear-57             [-1, 196, 384]         147,840\n",
      "           Linear-58            [-1, 196, 1536]         591,360\n",
      "             ReLU-59            [-1, 196, 1536]               0\n",
      "          Dropout-60            [-1, 196, 1536]               0\n",
      "           Linear-61             [-1, 196, 384]         590,208\n",
      "          Dropout-62             [-1, 196, 384]               0\n",
      "              Mlp-63             [-1, 196, 384]               0\n",
      "           Linear-64             [-1, 196, 384]         147,456\n",
      "         Identity-65             [-1, 196, 384]               0\n",
      "         Identity-66             [-1, 196, 384]               0\n",
      "layers_scale_mlp_blocks-67             [-1, 196, 384]               0\n",
      "           Linear-68             [-1, 196, 384]         147,840\n",
      "           Linear-69             [-1, 384, 196]          38,612\n",
      "           Linear-70             [-1, 196, 384]         147,456\n",
      "         Identity-71             [-1, 196, 384]               0\n",
      "         Identity-72             [-1, 196, 384]               0\n",
      "           Linear-73             [-1, 196, 384]         147,840\n",
      "           Linear-74            [-1, 196, 1536]         591,360\n",
      "             ReLU-75            [-1, 196, 1536]               0\n",
      "          Dropout-76            [-1, 196, 1536]               0\n",
      "           Linear-77             [-1, 196, 384]         590,208\n",
      "          Dropout-78             [-1, 196, 384]               0\n",
      "              Mlp-79             [-1, 196, 384]               0\n",
      "           Linear-80             [-1, 196, 384]         147,456\n",
      "         Identity-81             [-1, 196, 384]               0\n",
      "         Identity-82             [-1, 196, 384]               0\n",
      "layers_scale_mlp_blocks-83             [-1, 196, 384]               0\n",
      "           Linear-84             [-1, 196, 384]         147,840\n",
      "           Linear-85             [-1, 384, 196]          38,612\n",
      "           Linear-86             [-1, 196, 384]         147,456\n",
      "         Identity-87             [-1, 196, 384]               0\n",
      "         Identity-88             [-1, 196, 384]               0\n",
      "           Linear-89             [-1, 196, 384]         147,840\n",
      "           Linear-90            [-1, 196, 1536]         591,360\n",
      "             ReLU-91            [-1, 196, 1536]               0\n",
      "          Dropout-92            [-1, 196, 1536]               0\n",
      "           Linear-93             [-1, 196, 384]         590,208\n",
      "          Dropout-94             [-1, 196, 384]               0\n",
      "              Mlp-95             [-1, 196, 384]               0\n",
      "           Linear-96             [-1, 196, 384]         147,456\n",
      "         Identity-97             [-1, 196, 384]               0\n",
      "         Identity-98             [-1, 196, 384]               0\n",
      "layers_scale_mlp_blocks-99             [-1, 196, 384]               0\n",
      "          Linear-100             [-1, 196, 384]         147,840\n",
      "          Linear-101             [-1, 384, 196]          38,612\n",
      "          Linear-102             [-1, 196, 384]         147,456\n",
      "        Identity-103             [-1, 196, 384]               0\n",
      "        Identity-104             [-1, 196, 384]               0\n",
      "          Linear-105             [-1, 196, 384]         147,840\n",
      "          Linear-106            [-1, 196, 1536]         591,360\n",
      "            ReLU-107            [-1, 196, 1536]               0\n",
      "         Dropout-108            [-1, 196, 1536]               0\n",
      "          Linear-109             [-1, 196, 384]         590,208\n",
      "         Dropout-110             [-1, 196, 384]               0\n",
      "             Mlp-111             [-1, 196, 384]               0\n",
      "          Linear-112             [-1, 196, 384]         147,456\n",
      "        Identity-113             [-1, 196, 384]               0\n",
      "        Identity-114             [-1, 196, 384]               0\n",
      "layers_scale_mlp_blocks-115             [-1, 196, 384]               0\n",
      "          Linear-116             [-1, 196, 384]         147,840\n",
      "          Linear-117             [-1, 384, 196]          38,612\n",
      "          Linear-118             [-1, 196, 384]         147,456\n",
      "        Identity-119             [-1, 196, 384]               0\n",
      "        Identity-120             [-1, 196, 384]               0\n",
      "          Linear-121             [-1, 196, 384]         147,840\n",
      "          Linear-122            [-1, 196, 1536]         591,360\n",
      "            ReLU-123            [-1, 196, 1536]               0\n",
      "         Dropout-124            [-1, 196, 1536]               0\n",
      "          Linear-125             [-1, 196, 384]         590,208\n",
      "         Dropout-126             [-1, 196, 384]               0\n",
      "             Mlp-127             [-1, 196, 384]               0\n",
      "          Linear-128             [-1, 196, 384]         147,456\n",
      "        Identity-129             [-1, 196, 384]               0\n",
      "        Identity-130             [-1, 196, 384]               0\n",
      "layers_scale_mlp_blocks-131             [-1, 196, 384]               0\n",
      "          Linear-132             [-1, 196, 384]         147,840\n",
      "          Linear-133             [-1, 384, 196]          38,612\n",
      "          Linear-134             [-1, 196, 384]         147,456\n",
      "        Identity-135             [-1, 196, 384]               0\n",
      "        Identity-136             [-1, 196, 384]               0\n",
      "          Linear-137             [-1, 196, 384]         147,840\n",
      "          Linear-138            [-1, 196, 1536]         591,360\n",
      "            ReLU-139            [-1, 196, 1536]               0\n",
      "         Dropout-140            [-1, 196, 1536]               0\n",
      "          Linear-141             [-1, 196, 384]         590,208\n",
      "         Dropout-142             [-1, 196, 384]               0\n",
      "             Mlp-143             [-1, 196, 384]               0\n",
      "          Linear-144             [-1, 196, 384]         147,456\n",
      "        Identity-145             [-1, 196, 384]               0\n",
      "        Identity-146             [-1, 196, 384]               0\n",
      "layers_scale_mlp_blocks-147             [-1, 196, 384]               0\n",
      "          Linear-148             [-1, 196, 384]         147,840\n",
      "          Linear-149             [-1, 384, 196]          38,612\n",
      "          Linear-150             [-1, 196, 384]         147,456\n",
      "        Identity-151             [-1, 196, 384]               0\n",
      "        Identity-152             [-1, 196, 384]               0\n",
      "          Linear-153             [-1, 196, 384]         147,840\n",
      "          Linear-154            [-1, 196, 1536]         591,360\n",
      "            ReLU-155            [-1, 196, 1536]               0\n",
      "         Dropout-156            [-1, 196, 1536]               0\n",
      "          Linear-157             [-1, 196, 384]         590,208\n",
      "         Dropout-158             [-1, 196, 384]               0\n",
      "             Mlp-159             [-1, 196, 384]               0\n",
      "          Linear-160             [-1, 196, 384]         147,456\n",
      "        Identity-161             [-1, 196, 384]               0\n",
      "        Identity-162             [-1, 196, 384]               0\n",
      "layers_scale_mlp_blocks-163             [-1, 196, 384]               0\n",
      "          Linear-164             [-1, 196, 384]         147,840\n",
      "          Linear-165             [-1, 384, 196]          38,612\n",
      "          Linear-166             [-1, 196, 384]         147,456\n",
      "        Identity-167             [-1, 196, 384]               0\n",
      "        Identity-168             [-1, 196, 384]               0\n",
      "          Linear-169             [-1, 196, 384]         147,840\n",
      "          Linear-170            [-1, 196, 1536]         591,360\n",
      "            ReLU-171            [-1, 196, 1536]               0\n",
      "         Dropout-172            [-1, 196, 1536]               0\n",
      "          Linear-173             [-1, 196, 384]         590,208\n",
      "         Dropout-174             [-1, 196, 384]               0\n",
      "             Mlp-175             [-1, 196, 384]               0\n",
      "          Linear-176             [-1, 196, 384]         147,456\n",
      "        Identity-177             [-1, 196, 384]               0\n",
      "        Identity-178             [-1, 196, 384]               0\n",
      "layers_scale_mlp_blocks-179             [-1, 196, 384]               0\n",
      "          Linear-180             [-1, 196, 384]         147,840\n",
      "          Linear-181             [-1, 384, 196]          38,612\n",
      "          Linear-182             [-1, 196, 384]         147,456\n",
      "        Identity-183             [-1, 196, 384]               0\n",
      "        Identity-184             [-1, 196, 384]               0\n",
      "          Linear-185             [-1, 196, 384]         147,840\n",
      "          Linear-186            [-1, 196, 1536]         591,360\n",
      "            ReLU-187            [-1, 196, 1536]               0\n",
      "         Dropout-188            [-1, 196, 1536]               0\n",
      "          Linear-189             [-1, 196, 384]         590,208\n",
      "         Dropout-190             [-1, 196, 384]               0\n",
      "             Mlp-191             [-1, 196, 384]               0\n",
      "          Linear-192             [-1, 196, 384]         147,456\n",
      "        Identity-193             [-1, 196, 384]               0\n",
      "        Identity-194             [-1, 196, 384]               0\n",
      "layers_scale_mlp_blocks-195             [-1, 196, 384]               0\n",
      "          Linear-196             [-1, 196, 384]         147,840\n",
      "          Linear-197             [-1, 384, 196]          38,612\n",
      "          Linear-198             [-1, 196, 384]         147,456\n",
      "        Identity-199             [-1, 196, 384]               0\n",
      "        Identity-200             [-1, 196, 384]               0\n",
      "          Linear-201             [-1, 196, 384]         147,840\n",
      "          Linear-202            [-1, 196, 1536]         591,360\n",
      "            ReLU-203            [-1, 196, 1536]               0\n",
      "         Dropout-204            [-1, 196, 1536]               0\n",
      "          Linear-205             [-1, 196, 384]         590,208\n",
      "         Dropout-206             [-1, 196, 384]               0\n",
      "             Mlp-207             [-1, 196, 384]               0\n",
      "          Linear-208             [-1, 196, 384]         147,456\n",
      "        Identity-209             [-1, 196, 384]               0\n",
      "        Identity-210             [-1, 196, 384]               0\n",
      "layers_scale_mlp_blocks-211             [-1, 196, 384]               0\n",
      "          Linear-212             [-1, 196, 384]         147,840\n",
      "          Linear-213             [-1, 384, 196]          38,612\n",
      "          Linear-214             [-1, 196, 384]         147,456\n",
      "        Identity-215             [-1, 196, 384]               0\n",
      "        Identity-216             [-1, 196, 384]               0\n",
      "          Linear-217             [-1, 196, 384]         147,840\n",
      "          Linear-218            [-1, 196, 1536]         591,360\n",
      "            ReLU-219            [-1, 196, 1536]               0\n",
      "         Dropout-220            [-1, 196, 1536]               0\n",
      "          Linear-221             [-1, 196, 384]         590,208\n",
      "         Dropout-222             [-1, 196, 384]               0\n",
      "             Mlp-223             [-1, 196, 384]               0\n",
      "          Linear-224             [-1, 196, 384]         147,456\n",
      "        Identity-225             [-1, 196, 384]               0\n",
      "        Identity-226             [-1, 196, 384]               0\n",
      "layers_scale_mlp_blocks-227             [-1, 196, 384]               0\n",
      "          Linear-228             [-1, 196, 384]         147,840\n",
      "          Linear-229             [-1, 384, 196]          38,612\n",
      "          Linear-230             [-1, 196, 384]         147,456\n",
      "        Identity-231             [-1, 196, 384]               0\n",
      "        Identity-232             [-1, 196, 384]               0\n",
      "          Linear-233             [-1, 196, 384]         147,840\n",
      "          Linear-234            [-1, 196, 1536]         591,360\n",
      "            ReLU-235            [-1, 196, 1536]               0\n",
      "         Dropout-236            [-1, 196, 1536]               0\n",
      "          Linear-237             [-1, 196, 384]         590,208\n",
      "         Dropout-238             [-1, 196, 384]               0\n",
      "             Mlp-239             [-1, 196, 384]               0\n",
      "          Linear-240             [-1, 196, 384]         147,456\n",
      "        Identity-241             [-1, 196, 384]               0\n",
      "        Identity-242             [-1, 196, 384]               0\n",
      "layers_scale_mlp_blocks-243             [-1, 196, 384]               0\n",
      "          Linear-244             [-1, 196, 384]         147,840\n",
      "          Linear-245             [-1, 384, 196]          38,612\n",
      "          Linear-246             [-1, 196, 384]         147,456\n",
      "        Identity-247             [-1, 196, 384]               0\n",
      "        Identity-248             [-1, 196, 384]               0\n",
      "          Linear-249             [-1, 196, 384]         147,840\n",
      "          Linear-250            [-1, 196, 1536]         591,360\n",
      "            ReLU-251            [-1, 196, 1536]               0\n",
      "         Dropout-252            [-1, 196, 1536]               0\n",
      "          Linear-253             [-1, 196, 384]         590,208\n",
      "         Dropout-254             [-1, 196, 384]               0\n",
      "             Mlp-255             [-1, 196, 384]               0\n",
      "          Linear-256             [-1, 196, 384]         147,456\n",
      "        Identity-257             [-1, 196, 384]               0\n",
      "        Identity-258             [-1, 196, 384]               0\n",
      "layers_scale_mlp_blocks-259             [-1, 196, 384]               0\n",
      "          Linear-260             [-1, 196, 384]         147,840\n",
      "          Linear-261             [-1, 384, 196]          38,612\n",
      "          Linear-262             [-1, 196, 384]         147,456\n",
      "        Identity-263             [-1, 196, 384]               0\n",
      "        Identity-264             [-1, 196, 384]               0\n",
      "          Linear-265             [-1, 196, 384]         147,840\n",
      "          Linear-266            [-1, 196, 1536]         591,360\n",
      "            ReLU-267            [-1, 196, 1536]               0\n",
      "         Dropout-268            [-1, 196, 1536]               0\n",
      "          Linear-269             [-1, 196, 384]         590,208\n",
      "         Dropout-270             [-1, 196, 384]               0\n",
      "             Mlp-271             [-1, 196, 384]               0\n",
      "          Linear-272             [-1, 196, 384]         147,456\n",
      "        Identity-273             [-1, 196, 384]               0\n",
      "        Identity-274             [-1, 196, 384]               0\n",
      "layers_scale_mlp_blocks-275             [-1, 196, 384]               0\n",
      "          Linear-276             [-1, 196, 384]         147,840\n",
      "          Linear-277             [-1, 384, 196]          38,612\n",
      "          Linear-278             [-1, 196, 384]         147,456\n",
      "        Identity-279             [-1, 196, 384]               0\n",
      "        Identity-280             [-1, 196, 384]               0\n",
      "          Linear-281             [-1, 196, 384]         147,840\n",
      "          Linear-282            [-1, 196, 1536]         591,360\n",
      "            ReLU-283            [-1, 196, 1536]               0\n",
      "         Dropout-284            [-1, 196, 1536]               0\n",
      "          Linear-285             [-1, 196, 384]         590,208\n",
      "         Dropout-286             [-1, 196, 384]               0\n",
      "             Mlp-287             [-1, 196, 384]               0\n",
      "          Linear-288             [-1, 196, 384]         147,456\n",
      "        Identity-289             [-1, 196, 384]               0\n",
      "        Identity-290             [-1, 196, 384]               0\n",
      "layers_scale_mlp_blocks-291             [-1, 196, 384]               0\n",
      "          Linear-292             [-1, 196, 384]         147,840\n",
      "          Linear-293             [-1, 384, 196]          38,612\n",
      "          Linear-294             [-1, 196, 384]         147,456\n",
      "        Identity-295             [-1, 196, 384]               0\n",
      "        Identity-296             [-1, 196, 384]               0\n",
      "          Linear-297             [-1, 196, 384]         147,840\n",
      "          Linear-298            [-1, 196, 1536]         591,360\n",
      "            ReLU-299            [-1, 196, 1536]               0\n",
      "         Dropout-300            [-1, 196, 1536]               0\n",
      "          Linear-301             [-1, 196, 384]         590,208\n",
      "         Dropout-302             [-1, 196, 384]               0\n",
      "             Mlp-303             [-1, 196, 384]               0\n",
      "          Linear-304             [-1, 196, 384]         147,456\n",
      "        Identity-305             [-1, 196, 384]               0\n",
      "        Identity-306             [-1, 196, 384]               0\n",
      "layers_scale_mlp_blocks-307             [-1, 196, 384]               0\n",
      "          Linear-308             [-1, 196, 384]         147,840\n",
      "          Linear-309             [-1, 384, 196]          38,612\n",
      "          Linear-310             [-1, 196, 384]         147,456\n",
      "        Identity-311             [-1, 196, 384]               0\n",
      "        Identity-312             [-1, 196, 384]               0\n",
      "          Linear-313             [-1, 196, 384]         147,840\n",
      "          Linear-314            [-1, 196, 1536]         591,360\n",
      "            ReLU-315            [-1, 196, 1536]               0\n",
      "         Dropout-316            [-1, 196, 1536]               0\n",
      "          Linear-317             [-1, 196, 384]         590,208\n",
      "         Dropout-318             [-1, 196, 384]               0\n",
      "             Mlp-319             [-1, 196, 384]               0\n",
      "          Linear-320             [-1, 196, 384]         147,456\n",
      "        Identity-321             [-1, 196, 384]               0\n",
      "        Identity-322             [-1, 196, 384]               0\n",
      "layers_scale_mlp_blocks-323             [-1, 196, 384]               0\n",
      "          Linear-324             [-1, 196, 384]         147,840\n",
      "          Linear-325             [-1, 384, 196]          38,612\n",
      "          Linear-326             [-1, 196, 384]         147,456\n",
      "        Identity-327             [-1, 196, 384]               0\n",
      "        Identity-328             [-1, 196, 384]               0\n",
      "          Linear-329             [-1, 196, 384]         147,840\n",
      "          Linear-330            [-1, 196, 1536]         591,360\n",
      "            ReLU-331            [-1, 196, 1536]               0\n",
      "         Dropout-332            [-1, 196, 1536]               0\n",
      "          Linear-333             [-1, 196, 384]         590,208\n",
      "         Dropout-334             [-1, 196, 384]               0\n",
      "             Mlp-335             [-1, 196, 384]               0\n",
      "          Linear-336             [-1, 196, 384]         147,456\n",
      "        Identity-337             [-1, 196, 384]               0\n",
      "        Identity-338             [-1, 196, 384]               0\n",
      "layers_scale_mlp_blocks-339             [-1, 196, 384]               0\n",
      "          Linear-340             [-1, 196, 384]         147,840\n",
      "          Linear-341             [-1, 384, 196]          38,612\n",
      "          Linear-342             [-1, 196, 384]         147,456\n",
      "        Identity-343             [-1, 196, 384]               0\n",
      "        Identity-344             [-1, 196, 384]               0\n",
      "          Linear-345             [-1, 196, 384]         147,840\n",
      "          Linear-346            [-1, 196, 1536]         591,360\n",
      "            ReLU-347            [-1, 196, 1536]               0\n",
      "         Dropout-348            [-1, 196, 1536]               0\n",
      "          Linear-349             [-1, 196, 384]         590,208\n",
      "         Dropout-350             [-1, 196, 384]               0\n",
      "             Mlp-351             [-1, 196, 384]               0\n",
      "          Linear-352             [-1, 196, 384]         147,456\n",
      "        Identity-353             [-1, 196, 384]               0\n",
      "        Identity-354             [-1, 196, 384]               0\n",
      "layers_scale_mlp_blocks-355             [-1, 196, 384]               0\n",
      "          Linear-356             [-1, 196, 384]         147,840\n",
      "          Linear-357             [-1, 384, 196]          38,612\n",
      "          Linear-358             [-1, 196, 384]         147,456\n",
      "        Identity-359             [-1, 196, 384]               0\n",
      "        Identity-360             [-1, 196, 384]               0\n",
      "          Linear-361             [-1, 196, 384]         147,840\n",
      "          Linear-362            [-1, 196, 1536]         591,360\n",
      "            ReLU-363            [-1, 196, 1536]               0\n",
      "         Dropout-364            [-1, 196, 1536]               0\n",
      "          Linear-365             [-1, 196, 384]         590,208\n",
      "         Dropout-366             [-1, 196, 384]               0\n",
      "             Mlp-367             [-1, 196, 384]               0\n",
      "          Linear-368             [-1, 196, 384]         147,456\n",
      "        Identity-369             [-1, 196, 384]               0\n",
      "        Identity-370             [-1, 196, 384]               0\n",
      "layers_scale_mlp_blocks-371             [-1, 196, 384]               0\n",
      "          Linear-372             [-1, 196, 384]         147,840\n",
      "          Linear-373             [-1, 384, 196]          38,612\n",
      "          Linear-374             [-1, 196, 384]         147,456\n",
      "        Identity-375             [-1, 196, 384]               0\n",
      "        Identity-376             [-1, 196, 384]               0\n",
      "          Linear-377             [-1, 196, 384]         147,840\n",
      "          Linear-378            [-1, 196, 1536]         591,360\n",
      "            ReLU-379            [-1, 196, 1536]               0\n",
      "         Dropout-380            [-1, 196, 1536]               0\n",
      "          Linear-381             [-1, 196, 384]         590,208\n",
      "         Dropout-382             [-1, 196, 384]               0\n",
      "             Mlp-383             [-1, 196, 384]               0\n",
      "          Linear-384             [-1, 196, 384]         147,456\n",
      "        Identity-385             [-1, 196, 384]               0\n",
      "        Identity-386             [-1, 196, 384]               0\n",
      "layers_scale_mlp_blocks-387             [-1, 196, 384]               0\n",
      "          Linear-388             [-1, 196, 384]         147,840\n",
      "          Linear-389                 [-1, 1000]         385,000\n",
      "================================================================\n",
      "Total params: 44,286,664\n",
      "Trainable params: 44,286,664\n",
      "Non-trainable params: 0\n",
      "----------------------------------------------------------------\n",
      "Input size (MB): 0.57\n",
      "Forward/backward pass size (MB): 346.84\n",
      "Params size (MB): 168.94\n",
      "Estimated Total Size (MB): 516.35\n",
      "----------------------------------------------------------------\n"
     ]
    }
   ],
   "source": [
    "from torchsummary import summary\n",
    "summary(model1, input_size=(3, 224, 224), device=\"cpu\")"
   ]
  },
  {
   "cell_type": "code",
   "execution_count": 67,
   "metadata": {},
   "outputs": [
    {
     "data": {
      "text/plain": [
       "torch.Size([196])"
      ]
     },
     "execution_count": 67,
     "metadata": {},
     "output_type": "execute_result"
    }
   ],
   "source": [
    "l2.bias.shape"
   ]
  },
  {
   "cell_type": "code",
   "execution_count": 4,
   "metadata": {},
   "outputs": [
    {
     "data": {
      "application/vnd.plotly.v1+json": {
       "config": {
        "plotlyServerURL": "https://plot.ly"
       },
       "data": [
        {
         "alignmentgroup": "True",
         "box": {
          "visible": true
         },
         "customdata": [
          [
           16.99,
           "Female",
           "Sun",
           "Dinner",
           2
          ],
          [
           24.59,
           "Female",
           "Sun",
           "Dinner",
           4
          ],
          [
           35.26,
           "Female",
           "Sun",
           "Dinner",
           4
          ],
          [
           14.83,
           "Female",
           "Sun",
           "Dinner",
           2
          ],
          [
           10.33,
           "Female",
           "Sun",
           "Dinner",
           3
          ],
          [
           16.97,
           "Female",
           "Sun",
           "Dinner",
           3
          ],
          [
           20.29,
           "Female",
           "Sat",
           "Dinner",
           2
          ],
          [
           15.77,
           "Female",
           "Sat",
           "Dinner",
           2
          ],
          [
           19.65,
           "Female",
           "Sat",
           "Dinner",
           2
          ],
          [
           15.06,
           "Female",
           "Sat",
           "Dinner",
           2
          ],
          [
           20.69,
           "Female",
           "Sat",
           "Dinner",
           4
          ],
          [
           16.93,
           "Female",
           "Sat",
           "Dinner",
           3
          ],
          [
           10.29,
           "Female",
           "Sun",
           "Dinner",
           2
          ],
          [
           34.81,
           "Female",
           "Sun",
           "Dinner",
           4
          ],
          [
           26.41,
           "Female",
           "Sat",
           "Dinner",
           2
          ],
          [
           16.45,
           "Female",
           "Sat",
           "Dinner",
           2
          ],
          [
           3.07,
           "Female",
           "Sat",
           "Dinner",
           1
          ],
          [
           17.07,
           "Female",
           "Sat",
           "Dinner",
           3
          ],
          [
           26.86,
           "Female",
           "Sat",
           "Dinner",
           2
          ],
          [
           25.28,
           "Female",
           "Sat",
           "Dinner",
           2
          ],
          [
           14.73,
           "Female",
           "Sat",
           "Dinner",
           2
          ],
          [
           10.07,
           "Female",
           "Thur",
           "Lunch",
           1
          ],
          [
           34.83,
           "Female",
           "Thur",
           "Lunch",
           4
          ],
          [
           5.75,
           "Female",
           "Fri",
           "Dinner",
           2
          ],
          [
           16.32,
           "Female",
           "Fri",
           "Dinner",
           2
          ],
          [
           22.75,
           "Female",
           "Fri",
           "Dinner",
           2
          ],
          [
           11.35,
           "Female",
           "Fri",
           "Dinner",
           2
          ],
          [
           15.38,
           "Female",
           "Fri",
           "Dinner",
           2
          ],
          [
           44.3,
           "Female",
           "Sat",
           "Dinner",
           3
          ],
          [
           22.42,
           "Female",
           "Sat",
           "Dinner",
           2
          ],
          [
           20.92,
           "Female",
           "Sat",
           "Dinner",
           2
          ],
          [
           14.31,
           "Female",
           "Sat",
           "Dinner",
           2
          ],
          [
           7.25,
           "Female",
           "Sat",
           "Dinner",
           1
          ],
          [
           25.71,
           "Female",
           "Sun",
           "Dinner",
           3
          ],
          [
           17.31,
           "Female",
           "Sun",
           "Dinner",
           2
          ],
          [
           10.65,
           "Female",
           "Thur",
           "Lunch",
           2
          ],
          [
           12.43,
           "Female",
           "Thur",
           "Lunch",
           2
          ],
          [
           24.08,
           "Female",
           "Thur",
           "Lunch",
           4
          ],
          [
           13.42,
           "Female",
           "Thur",
           "Lunch",
           2
          ],
          [
           12.48,
           "Female",
           "Thur",
           "Lunch",
           2
          ],
          [
           29.8,
           "Female",
           "Thur",
           "Lunch",
           6
          ],
          [
           14.52,
           "Female",
           "Thur",
           "Lunch",
           2
          ],
          [
           11.38,
           "Female",
           "Thur",
           "Lunch",
           2
          ],
          [
           20.27,
           "Female",
           "Thur",
           "Lunch",
           2
          ],
          [
           11.17,
           "Female",
           "Thur",
           "Lunch",
           2
          ],
          [
           12.26,
           "Female",
           "Thur",
           "Lunch",
           2
          ],
          [
           18.26,
           "Female",
           "Thur",
           "Lunch",
           2
          ],
          [
           8.51,
           "Female",
           "Thur",
           "Lunch",
           2
          ],
          [
           10.33,
           "Female",
           "Thur",
           "Lunch",
           2
          ],
          [
           14.15,
           "Female",
           "Thur",
           "Lunch",
           2
          ],
          [
           13.16,
           "Female",
           "Thur",
           "Lunch",
           2
          ],
          [
           17.47,
           "Female",
           "Thur",
           "Lunch",
           2
          ],
          [
           27.05,
           "Female",
           "Thur",
           "Lunch",
           6
          ],
          [
           16.43,
           "Female",
           "Thur",
           "Lunch",
           2
          ],
          [
           8.35,
           "Female",
           "Thur",
           "Lunch",
           2
          ],
          [
           18.64,
           "Female",
           "Thur",
           "Lunch",
           3
          ],
          [
           11.87,
           "Female",
           "Thur",
           "Lunch",
           2
          ],
          [
           29.85,
           "Female",
           "Sun",
           "Dinner",
           5
          ],
          [
           25,
           "Female",
           "Sun",
           "Dinner",
           4
          ],
          [
           13.39,
           "Female",
           "Sun",
           "Dinner",
           2
          ],
          [
           16.21,
           "Female",
           "Sun",
           "Dinner",
           3
          ],
          [
           17.51,
           "Female",
           "Sun",
           "Dinner",
           2
          ],
          [
           10.59,
           "Female",
           "Sat",
           "Dinner",
           2
          ],
          [
           10.63,
           "Female",
           "Sat",
           "Dinner",
           2
          ],
          [
           9.6,
           "Female",
           "Sun",
           "Dinner",
           2
          ],
          [
           20.9,
           "Female",
           "Sun",
           "Dinner",
           3
          ],
          [
           18.15,
           "Female",
           "Sun",
           "Dinner",
           3
          ],
          [
           19.81,
           "Female",
           "Thur",
           "Lunch",
           2
          ],
          [
           43.11,
           "Female",
           "Thur",
           "Lunch",
           4
          ],
          [
           13,
           "Female",
           "Thur",
           "Lunch",
           2
          ],
          [
           12.74,
           "Female",
           "Thur",
           "Lunch",
           2
          ],
          [
           13,
           "Female",
           "Thur",
           "Lunch",
           2
          ],
          [
           16.4,
           "Female",
           "Thur",
           "Lunch",
           2
          ],
          [
           16.47,
           "Female",
           "Thur",
           "Lunch",
           3
          ],
          [
           12.76,
           "Female",
           "Sat",
           "Dinner",
           2
          ],
          [
           13.27,
           "Female",
           "Sat",
           "Dinner",
           2
          ],
          [
           28.17,
           "Female",
           "Sat",
           "Dinner",
           3
          ],
          [
           12.9,
           "Female",
           "Sat",
           "Dinner",
           2
          ],
          [
           30.14,
           "Female",
           "Sat",
           "Dinner",
           4
          ],
          [
           13.42,
           "Female",
           "Fri",
           "Lunch",
           2
          ],
          [
           15.98,
           "Female",
           "Fri",
           "Lunch",
           3
          ],
          [
           16.27,
           "Female",
           "Fri",
           "Lunch",
           2
          ],
          [
           10.09,
           "Female",
           "Fri",
           "Lunch",
           2
          ],
          [
           22.12,
           "Female",
           "Sat",
           "Dinner",
           2
          ],
          [
           35.83,
           "Female",
           "Sat",
           "Dinner",
           3
          ],
          [
           27.18,
           "Female",
           "Sat",
           "Dinner",
           2
          ],
          [
           18.78,
           "Female",
           "Thur",
           "Dinner",
           2
          ]
         ],
         "hovertemplate": "sex=%{customdata[1]}<br>smoker=%{x}<br>tip=%{y}<br>total_bill=%{customdata[0]}<br>day=%{customdata[2]}<br>time=%{customdata[3]}<br>size=%{customdata[4]}<extra></extra>",
         "legendgroup": "Female",
         "marker": {
          "color": "#636efa"
         },
         "name": "Female",
         "offsetgroup": "Female",
         "orientation": "v",
         "points": "all",
         "scalegroup": "True",
         "showlegend": true,
         "type": "violin",
         "x": [
          "No",
          "No",
          "No",
          "No",
          "No",
          "No",
          "No",
          "No",
          "No",
          "No",
          "No",
          "No",
          "No",
          "No",
          "No",
          "No",
          "Yes",
          "No",
          "Yes",
          "Yes",
          "No",
          "No",
          "No",
          "Yes",
          "Yes",
          "No",
          "Yes",
          "Yes",
          "Yes",
          "Yes",
          "No",
          "Yes",
          "No",
          "No",
          "No",
          "No",
          "No",
          "No",
          "No",
          "No",
          "No",
          "No",
          "No",
          "No",
          "No",
          "No",
          "No",
          "No",
          "No",
          "No",
          "No",
          "No",
          "No",
          "No",
          "No",
          "No",
          "No",
          "No",
          "No",
          "No",
          "No",
          "Yes",
          "Yes",
          "Yes",
          "Yes",
          "Yes",
          "Yes",
          "Yes",
          "Yes",
          "Yes",
          "Yes",
          "Yes",
          "Yes",
          "Yes",
          "Yes",
          "Yes",
          "Yes",
          "Yes",
          "Yes",
          "Yes",
          "No",
          "Yes",
          "Yes",
          "Yes",
          "No",
          "Yes",
          "No"
         ],
         "x0": " ",
         "xaxis": "x",
         "y": [
          1.01,
          3.61,
          5,
          3.02,
          1.67,
          3.5,
          2.75,
          2.23,
          3,
          3,
          2.45,
          3.07,
          2.6,
          5.2,
          1.5,
          2.47,
          1,
          3,
          3.14,
          5,
          2.2,
          1.83,
          5.17,
          1,
          4.3,
          3.25,
          2.5,
          3,
          2.5,
          3.48,
          4.08,
          4,
          1,
          4,
          3.5,
          1.5,
          1.8,
          2.92,
          1.68,
          2.52,
          4.2,
          2,
          2,
          2.83,
          1.5,
          2,
          3.25,
          1.25,
          2,
          2,
          2.75,
          3.5,
          5,
          2.3,
          1.5,
          1.36,
          1.63,
          5.14,
          3.75,
          2.61,
          2,
          3,
          1.61,
          2,
          4,
          3.5,
          3.5,
          4.19,
          5,
          2,
          2.01,
          2,
          2.5,
          3.23,
          2.23,
          2.5,
          6.5,
          1.1,
          3.09,
          3.48,
          3,
          2.5,
          2,
          2.88,
          4.67,
          2,
          3
         ],
         "y0": " ",
         "yaxis": "y"
        },
        {
         "alignmentgroup": "True",
         "box": {
          "visible": true
         },
         "customdata": [
          [
           10.34,
           "Male",
           "Sun",
           "Dinner",
           3
          ],
          [
           21.01,
           "Male",
           "Sun",
           "Dinner",
           3
          ],
          [
           23.68,
           "Male",
           "Sun",
           "Dinner",
           2
          ],
          [
           25.29,
           "Male",
           "Sun",
           "Dinner",
           4
          ],
          [
           8.77,
           "Male",
           "Sun",
           "Dinner",
           2
          ],
          [
           26.88,
           "Male",
           "Sun",
           "Dinner",
           4
          ],
          [
           15.04,
           "Male",
           "Sun",
           "Dinner",
           2
          ],
          [
           14.78,
           "Male",
           "Sun",
           "Dinner",
           2
          ],
          [
           10.27,
           "Male",
           "Sun",
           "Dinner",
           2
          ],
          [
           15.42,
           "Male",
           "Sun",
           "Dinner",
           2
          ],
          [
           18.43,
           "Male",
           "Sun",
           "Dinner",
           4
          ],
          [
           21.58,
           "Male",
           "Sun",
           "Dinner",
           2
          ],
          [
           16.29,
           "Male",
           "Sun",
           "Dinner",
           3
          ],
          [
           20.65,
           "Male",
           "Sat",
           "Dinner",
           3
          ],
          [
           17.92,
           "Male",
           "Sat",
           "Dinner",
           2
          ],
          [
           39.42,
           "Male",
           "Sat",
           "Dinner",
           4
          ],
          [
           19.82,
           "Male",
           "Sat",
           "Dinner",
           2
          ],
          [
           17.81,
           "Male",
           "Sat",
           "Dinner",
           4
          ],
          [
           13.37,
           "Male",
           "Sat",
           "Dinner",
           2
          ],
          [
           12.69,
           "Male",
           "Sat",
           "Dinner",
           2
          ],
          [
           21.7,
           "Male",
           "Sat",
           "Dinner",
           2
          ],
          [
           9.55,
           "Male",
           "Sat",
           "Dinner",
           2
          ],
          [
           18.35,
           "Male",
           "Sat",
           "Dinner",
           4
          ],
          [
           17.78,
           "Male",
           "Sat",
           "Dinner",
           2
          ],
          [
           24.06,
           "Male",
           "Sat",
           "Dinner",
           3
          ],
          [
           16.31,
           "Male",
           "Sat",
           "Dinner",
           3
          ],
          [
           18.69,
           "Male",
           "Sat",
           "Dinner",
           3
          ],
          [
           31.27,
           "Male",
           "Sat",
           "Dinner",
           3
          ],
          [
           16.04,
           "Male",
           "Sat",
           "Dinner",
           3
          ],
          [
           17.46,
           "Male",
           "Sun",
           "Dinner",
           2
          ],
          [
           13.94,
           "Male",
           "Sun",
           "Dinner",
           2
          ],
          [
           9.68,
           "Male",
           "Sun",
           "Dinner",
           2
          ],
          [
           30.4,
           "Male",
           "Sun",
           "Dinner",
           4
          ],
          [
           18.29,
           "Male",
           "Sun",
           "Dinner",
           2
          ],
          [
           22.23,
           "Male",
           "Sun",
           "Dinner",
           2
          ],
          [
           32.4,
           "Male",
           "Sun",
           "Dinner",
           4
          ],
          [
           28.55,
           "Male",
           "Sun",
           "Dinner",
           3
          ],
          [
           18.04,
           "Male",
           "Sun",
           "Dinner",
           2
          ],
          [
           12.54,
           "Male",
           "Sun",
           "Dinner",
           2
          ],
          [
           9.94,
           "Male",
           "Sun",
           "Dinner",
           2
          ],
          [
           25.56,
           "Male",
           "Sun",
           "Dinner",
           4
          ],
          [
           19.49,
           "Male",
           "Sun",
           "Dinner",
           2
          ],
          [
           38.01,
           "Male",
           "Sat",
           "Dinner",
           4
          ],
          [
           11.24,
           "Male",
           "Sat",
           "Dinner",
           2
          ],
          [
           48.27,
           "Male",
           "Sat",
           "Dinner",
           4
          ],
          [
           20.29,
           "Male",
           "Sat",
           "Dinner",
           2
          ],
          [
           13.81,
           "Male",
           "Sat",
           "Dinner",
           2
          ],
          [
           11.02,
           "Male",
           "Sat",
           "Dinner",
           2
          ],
          [
           18.29,
           "Male",
           "Sat",
           "Dinner",
           4
          ],
          [
           17.59,
           "Male",
           "Sat",
           "Dinner",
           3
          ],
          [
           20.08,
           "Male",
           "Sat",
           "Dinner",
           3
          ],
          [
           20.23,
           "Male",
           "Sat",
           "Dinner",
           2
          ],
          [
           15.01,
           "Male",
           "Sat",
           "Dinner",
           2
          ],
          [
           12.02,
           "Male",
           "Sat",
           "Dinner",
           2
          ],
          [
           10.51,
           "Male",
           "Sat",
           "Dinner",
           2
          ],
          [
           17.92,
           "Male",
           "Sat",
           "Dinner",
           2
          ],
          [
           27.2,
           "Male",
           "Thur",
           "Lunch",
           4
          ],
          [
           22.76,
           "Male",
           "Thur",
           "Lunch",
           2
          ],
          [
           17.29,
           "Male",
           "Thur",
           "Lunch",
           2
          ],
          [
           19.44,
           "Male",
           "Thur",
           "Lunch",
           2
          ],
          [
           16.66,
           "Male",
           "Thur",
           "Lunch",
           2
          ],
          [
           32.68,
           "Male",
           "Thur",
           "Lunch",
           2
          ],
          [
           15.98,
           "Male",
           "Thur",
           "Lunch",
           2
          ],
          [
           13.03,
           "Male",
           "Thur",
           "Lunch",
           2
          ],
          [
           18.28,
           "Male",
           "Thur",
           "Lunch",
           2
          ],
          [
           24.71,
           "Male",
           "Thur",
           "Lunch",
           2
          ],
          [
           21.16,
           "Male",
           "Thur",
           "Lunch",
           2
          ],
          [
           28.97,
           "Male",
           "Fri",
           "Dinner",
           2
          ],
          [
           22.49,
           "Male",
           "Fri",
           "Dinner",
           2
          ],
          [
           40.17,
           "Male",
           "Fri",
           "Dinner",
           4
          ],
          [
           27.28,
           "Male",
           "Fri",
           "Dinner",
           2
          ],
          [
           12.03,
           "Male",
           "Fri",
           "Dinner",
           2
          ],
          [
           21.01,
           "Male",
           "Fri",
           "Dinner",
           2
          ],
          [
           12.46,
           "Male",
           "Fri",
           "Dinner",
           2
          ],
          [
           15.36,
           "Male",
           "Sat",
           "Dinner",
           2
          ],
          [
           20.49,
           "Male",
           "Sat",
           "Dinner",
           2
          ],
          [
           25.21,
           "Male",
           "Sat",
           "Dinner",
           2
          ],
          [
           18.24,
           "Male",
           "Sat",
           "Dinner",
           2
          ],
          [
           14,
           "Male",
           "Sat",
           "Dinner",
           2
          ],
          [
           38.07,
           "Male",
           "Sun",
           "Dinner",
           3
          ],
          [
           23.95,
           "Male",
           "Sun",
           "Dinner",
           2
          ],
          [
           29.93,
           "Male",
           "Sun",
           "Dinner",
           4
          ],
          [
           11.69,
           "Male",
           "Thur",
           "Lunch",
           2
          ],
          [
           14.26,
           "Male",
           "Thur",
           "Lunch",
           2
          ],
          [
           15.95,
           "Male",
           "Thur",
           "Lunch",
           2
          ],
          [
           8.52,
           "Male",
           "Thur",
           "Lunch",
           2
          ],
          [
           22.82,
           "Male",
           "Thur",
           "Lunch",
           3
          ],
          [
           19.08,
           "Male",
           "Thur",
           "Lunch",
           2
          ],
          [
           16,
           "Male",
           "Thur",
           "Lunch",
           2
          ],
          [
           34.3,
           "Male",
           "Thur",
           "Lunch",
           6
          ],
          [
           41.19,
           "Male",
           "Thur",
           "Lunch",
           5
          ],
          [
           9.78,
           "Male",
           "Thur",
           "Lunch",
           2
          ],
          [
           7.51,
           "Male",
           "Thur",
           "Lunch",
           2
          ],
          [
           14.07,
           "Male",
           "Sun",
           "Dinner",
           2
          ],
          [
           13.13,
           "Male",
           "Sun",
           "Dinner",
           2
          ],
          [
           17.26,
           "Male",
           "Sun",
           "Dinner",
           3
          ],
          [
           24.55,
           "Male",
           "Sun",
           "Dinner",
           4
          ],
          [
           19.77,
           "Male",
           "Sun",
           "Dinner",
           4
          ],
          [
           48.17,
           "Male",
           "Sun",
           "Dinner",
           6
          ],
          [
           16.49,
           "Male",
           "Sun",
           "Dinner",
           4
          ],
          [
           21.5,
           "Male",
           "Sun",
           "Dinner",
           4
          ],
          [
           12.66,
           "Male",
           "Sun",
           "Dinner",
           2
          ],
          [
           13.81,
           "Male",
           "Sun",
           "Dinner",
           2
          ],
          [
           24.52,
           "Male",
           "Sun",
           "Dinner",
           3
          ],
          [
           20.76,
           "Male",
           "Sun",
           "Dinner",
           2
          ],
          [
           31.71,
           "Male",
           "Sun",
           "Dinner",
           4
          ],
          [
           50.81,
           "Male",
           "Sat",
           "Dinner",
           3
          ],
          [
           15.81,
           "Male",
           "Sat",
           "Dinner",
           2
          ],
          [
           7.25,
           "Male",
           "Sun",
           "Dinner",
           2
          ],
          [
           31.85,
           "Male",
           "Sun",
           "Dinner",
           2
          ],
          [
           16.82,
           "Male",
           "Sun",
           "Dinner",
           2
          ],
          [
           32.9,
           "Male",
           "Sun",
           "Dinner",
           2
          ],
          [
           17.89,
           "Male",
           "Sun",
           "Dinner",
           2
          ],
          [
           14.48,
           "Male",
           "Sun",
           "Dinner",
           2
          ],
          [
           34.63,
           "Male",
           "Sun",
           "Dinner",
           2
          ],
          [
           34.65,
           "Male",
           "Sun",
           "Dinner",
           4
          ],
          [
           23.33,
           "Male",
           "Sun",
           "Dinner",
           2
          ],
          [
           45.35,
           "Male",
           "Sun",
           "Dinner",
           3
          ],
          [
           23.17,
           "Male",
           "Sun",
           "Dinner",
           4
          ],
          [
           40.55,
           "Male",
           "Sun",
           "Dinner",
           2
          ],
          [
           20.69,
           "Male",
           "Sun",
           "Dinner",
           5
          ],
          [
           30.46,
           "Male",
           "Sun",
           "Dinner",
           5
          ],
          [
           23.1,
           "Male",
           "Sun",
           "Dinner",
           3
          ],
          [
           15.69,
           "Male",
           "Sun",
           "Dinner",
           2
          ],
          [
           28.44,
           "Male",
           "Thur",
           "Lunch",
           2
          ],
          [
           15.48,
           "Male",
           "Thur",
           "Lunch",
           2
          ],
          [
           16.58,
           "Male",
           "Thur",
           "Lunch",
           2
          ],
          [
           7.56,
           "Male",
           "Thur",
           "Lunch",
           2
          ],
          [
           10.34,
           "Male",
           "Thur",
           "Lunch",
           2
          ],
          [
           13.51,
           "Male",
           "Thur",
           "Lunch",
           2
          ],
          [
           18.71,
           "Male",
           "Thur",
           "Lunch",
           3
          ],
          [
           20.53,
           "Male",
           "Thur",
           "Lunch",
           4
          ],
          [
           26.59,
           "Male",
           "Sat",
           "Dinner",
           3
          ],
          [
           38.73,
           "Male",
           "Sat",
           "Dinner",
           4
          ],
          [
           24.27,
           "Male",
           "Sat",
           "Dinner",
           2
          ],
          [
           30.06,
           "Male",
           "Sat",
           "Dinner",
           3
          ],
          [
           25.89,
           "Male",
           "Sat",
           "Dinner",
           4
          ],
          [
           48.33,
           "Male",
           "Sat",
           "Dinner",
           4
          ],
          [
           28.15,
           "Male",
           "Sat",
           "Dinner",
           5
          ],
          [
           11.59,
           "Male",
           "Sat",
           "Dinner",
           2
          ],
          [
           7.74,
           "Male",
           "Sat",
           "Dinner",
           2
          ],
          [
           12.16,
           "Male",
           "Fri",
           "Lunch",
           2
          ],
          [
           8.58,
           "Male",
           "Fri",
           "Lunch",
           1
          ],
          [
           13.42,
           "Male",
           "Fri",
           "Lunch",
           2
          ],
          [
           20.45,
           "Male",
           "Sat",
           "Dinner",
           4
          ],
          [
           13.28,
           "Male",
           "Sat",
           "Dinner",
           2
          ],
          [
           24.01,
           "Male",
           "Sat",
           "Dinner",
           4
          ],
          [
           15.69,
           "Male",
           "Sat",
           "Dinner",
           3
          ],
          [
           11.61,
           "Male",
           "Sat",
           "Dinner",
           2
          ],
          [
           10.77,
           "Male",
           "Sat",
           "Dinner",
           2
          ],
          [
           15.53,
           "Male",
           "Sat",
           "Dinner",
           2
          ],
          [
           10.07,
           "Male",
           "Sat",
           "Dinner",
           2
          ],
          [
           12.6,
           "Male",
           "Sat",
           "Dinner",
           2
          ],
          [
           32.83,
           "Male",
           "Sat",
           "Dinner",
           2
          ],
          [
           29.03,
           "Male",
           "Sat",
           "Dinner",
           3
          ],
          [
           22.67,
           "Male",
           "Sat",
           "Dinner",
           2
          ],
          [
           17.82,
           "Male",
           "Sat",
           "Dinner",
           2
          ]
         ],
         "hovertemplate": "sex=%{customdata[1]}<br>smoker=%{x}<br>tip=%{y}<br>total_bill=%{customdata[0]}<br>day=%{customdata[2]}<br>time=%{customdata[3]}<br>size=%{customdata[4]}<extra></extra>",
         "legendgroup": "Male",
         "marker": {
          "color": "#EF553B"
         },
         "name": "Male",
         "offsetgroup": "Male",
         "orientation": "v",
         "points": "all",
         "scalegroup": "True",
         "showlegend": true,
         "type": "violin",
         "x": [
          "No",
          "No",
          "No",
          "No",
          "No",
          "No",
          "No",
          "No",
          "No",
          "No",
          "No",
          "No",
          "No",
          "No",
          "No",
          "No",
          "No",
          "No",
          "No",
          "No",
          "No",
          "No",
          "No",
          "No",
          "No",
          "No",
          "No",
          "No",
          "No",
          "No",
          "No",
          "No",
          "No",
          "No",
          "No",
          "No",
          "No",
          "No",
          "No",
          "No",
          "No",
          "No",
          "Yes",
          "Yes",
          "No",
          "Yes",
          "Yes",
          "Yes",
          "Yes",
          "No",
          "No",
          "No",
          "Yes",
          "No",
          "No",
          "Yes",
          "No",
          "No",
          "No",
          "Yes",
          "No",
          "Yes",
          "No",
          "No",
          "No",
          "No",
          "No",
          "Yes",
          "No",
          "Yes",
          "Yes",
          "Yes",
          "Yes",
          "No",
          "Yes",
          "Yes",
          "Yes",
          "No",
          "No",
          "No",
          "No",
          "No",
          "No",
          "No",
          "No",
          "No",
          "No",
          "No",
          "Yes",
          "No",
          "No",
          "No",
          "No",
          "No",
          "No",
          "No",
          "No",
          "No",
          "No",
          "No",
          "No",
          "No",
          "No",
          "No",
          "No",
          "No",
          "Yes",
          "Yes",
          "Yes",
          "Yes",
          "Yes",
          "Yes",
          "Yes",
          "Yes",
          "Yes",
          "Yes",
          "Yes",
          "Yes",
          "Yes",
          "Yes",
          "No",
          "Yes",
          "Yes",
          "Yes",
          "Yes",
          "Yes",
          "Yes",
          "No",
          "Yes",
          "Yes",
          "Yes",
          "Yes",
          "Yes",
          "Yes",
          "Yes",
          "Yes",
          "Yes",
          "No",
          "Yes",
          "Yes",
          "Yes",
          "Yes",
          "Yes",
          "Yes",
          "No",
          "No",
          "Yes",
          "Yes",
          "No",
          "No",
          "Yes",
          "No",
          "Yes",
          "Yes",
          "No",
          "Yes",
          "No"
         ],
         "x0": " ",
         "xaxis": "x",
         "y": [
          1.66,
          3.5,
          3.31,
          4.71,
          2,
          3.12,
          1.96,
          3.23,
          1.71,
          1.57,
          3,
          3.92,
          3.71,
          3.35,
          4.08,
          7.58,
          3.18,
          2.34,
          2,
          2,
          4.3,
          1.45,
          2.5,
          3.27,
          3.6,
          2,
          2.31,
          5,
          2.24,
          2.54,
          3.06,
          1.32,
          5.6,
          3,
          5,
          6,
          2.05,
          3,
          2.5,
          1.56,
          4.34,
          3.51,
          3,
          1.76,
          6.73,
          3.21,
          2,
          1.98,
          3.76,
          2.64,
          3.15,
          2.01,
          2.09,
          1.97,
          1.25,
          3.08,
          4,
          3,
          2.71,
          3,
          3.4,
          5,
          2.03,
          2,
          4,
          5.85,
          3,
          3,
          3.5,
          4.73,
          4,
          1.5,
          3,
          1.5,
          1.64,
          4.06,
          4.29,
          3.76,
          3,
          4,
          2.55,
          5.07,
          2.31,
          2.5,
          2,
          1.48,
          2.18,
          1.5,
          2,
          6.7,
          5,
          1.73,
          2,
          2.5,
          2,
          2.74,
          2,
          2,
          5,
          2,
          3.5,
          2.5,
          2,
          3.48,
          2.24,
          4.5,
          10,
          3.16,
          5.15,
          3.18,
          4,
          3.11,
          2,
          2,
          3.55,
          3.68,
          5.65,
          3.5,
          6.5,
          3,
          5,
          2,
          4,
          1.5,
          2.56,
          2.02,
          4,
          1.44,
          2,
          2,
          4,
          4,
          3.41,
          3,
          2.03,
          2,
          5.16,
          9,
          3,
          1.5,
          1.44,
          2.2,
          1.92,
          1.58,
          3,
          2.72,
          2,
          3,
          3.39,
          1.47,
          3,
          1.25,
          1,
          1.17,
          5.92,
          2,
          1.75
         ],
         "y0": " ",
         "yaxis": "y"
        }
       ],
       "layout": {
        "legend": {
         "title": {
          "text": "sex"
         },
         "tracegroupgap": 0
        },
        "margin": {
         "t": 60
        },
        "template": {
         "data": {
          "bar": [
           {
            "error_x": {
             "color": "#2a3f5f"
            },
            "error_y": {
             "color": "#2a3f5f"
            },
            "marker": {
             "line": {
              "color": "#E5ECF6",
              "width": 0.5
             },
             "pattern": {
              "fillmode": "overlay",
              "size": 10,
              "solidity": 0.2
             }
            },
            "type": "bar"
           }
          ],
          "barpolar": [
           {
            "marker": {
             "line": {
              "color": "#E5ECF6",
              "width": 0.5
             },
             "pattern": {
              "fillmode": "overlay",
              "size": 10,
              "solidity": 0.2
             }
            },
            "type": "barpolar"
           }
          ],
          "carpet": [
           {
            "aaxis": {
             "endlinecolor": "#2a3f5f",
             "gridcolor": "white",
             "linecolor": "white",
             "minorgridcolor": "white",
             "startlinecolor": "#2a3f5f"
            },
            "baxis": {
             "endlinecolor": "#2a3f5f",
             "gridcolor": "white",
             "linecolor": "white",
             "minorgridcolor": "white",
             "startlinecolor": "#2a3f5f"
            },
            "type": "carpet"
           }
          ],
          "choropleth": [
           {
            "colorbar": {
             "outlinewidth": 0,
             "ticks": ""
            },
            "type": "choropleth"
           }
          ],
          "contour": [
           {
            "colorbar": {
             "outlinewidth": 0,
             "ticks": ""
            },
            "colorscale": [
             [
              0,
              "#0d0887"
             ],
             [
              0.1111111111111111,
              "#46039f"
             ],
             [
              0.2222222222222222,
              "#7201a8"
             ],
             [
              0.3333333333333333,
              "#9c179e"
             ],
             [
              0.4444444444444444,
              "#bd3786"
             ],
             [
              0.5555555555555556,
              "#d8576b"
             ],
             [
              0.6666666666666666,
              "#ed7953"
             ],
             [
              0.7777777777777778,
              "#fb9f3a"
             ],
             [
              0.8888888888888888,
              "#fdca26"
             ],
             [
              1,
              "#f0f921"
             ]
            ],
            "type": "contour"
           }
          ],
          "contourcarpet": [
           {
            "colorbar": {
             "outlinewidth": 0,
             "ticks": ""
            },
            "type": "contourcarpet"
           }
          ],
          "heatmap": [
           {
            "colorbar": {
             "outlinewidth": 0,
             "ticks": ""
            },
            "colorscale": [
             [
              0,
              "#0d0887"
             ],
             [
              0.1111111111111111,
              "#46039f"
             ],
             [
              0.2222222222222222,
              "#7201a8"
             ],
             [
              0.3333333333333333,
              "#9c179e"
             ],
             [
              0.4444444444444444,
              "#bd3786"
             ],
             [
              0.5555555555555556,
              "#d8576b"
             ],
             [
              0.6666666666666666,
              "#ed7953"
             ],
             [
              0.7777777777777778,
              "#fb9f3a"
             ],
             [
              0.8888888888888888,
              "#fdca26"
             ],
             [
              1,
              "#f0f921"
             ]
            ],
            "type": "heatmap"
           }
          ],
          "heatmapgl": [
           {
            "colorbar": {
             "outlinewidth": 0,
             "ticks": ""
            },
            "colorscale": [
             [
              0,
              "#0d0887"
             ],
             [
              0.1111111111111111,
              "#46039f"
             ],
             [
              0.2222222222222222,
              "#7201a8"
             ],
             [
              0.3333333333333333,
              "#9c179e"
             ],
             [
              0.4444444444444444,
              "#bd3786"
             ],
             [
              0.5555555555555556,
              "#d8576b"
             ],
             [
              0.6666666666666666,
              "#ed7953"
             ],
             [
              0.7777777777777778,
              "#fb9f3a"
             ],
             [
              0.8888888888888888,
              "#fdca26"
             ],
             [
              1,
              "#f0f921"
             ]
            ],
            "type": "heatmapgl"
           }
          ],
          "histogram": [
           {
            "marker": {
             "pattern": {
              "fillmode": "overlay",
              "size": 10,
              "solidity": 0.2
             }
            },
            "type": "histogram"
           }
          ],
          "histogram2d": [
           {
            "colorbar": {
             "outlinewidth": 0,
             "ticks": ""
            },
            "colorscale": [
             [
              0,
              "#0d0887"
             ],
             [
              0.1111111111111111,
              "#46039f"
             ],
             [
              0.2222222222222222,
              "#7201a8"
             ],
             [
              0.3333333333333333,
              "#9c179e"
             ],
             [
              0.4444444444444444,
              "#bd3786"
             ],
             [
              0.5555555555555556,
              "#d8576b"
             ],
             [
              0.6666666666666666,
              "#ed7953"
             ],
             [
              0.7777777777777778,
              "#fb9f3a"
             ],
             [
              0.8888888888888888,
              "#fdca26"
             ],
             [
              1,
              "#f0f921"
             ]
            ],
            "type": "histogram2d"
           }
          ],
          "histogram2dcontour": [
           {
            "colorbar": {
             "outlinewidth": 0,
             "ticks": ""
            },
            "colorscale": [
             [
              0,
              "#0d0887"
             ],
             [
              0.1111111111111111,
              "#46039f"
             ],
             [
              0.2222222222222222,
              "#7201a8"
             ],
             [
              0.3333333333333333,
              "#9c179e"
             ],
             [
              0.4444444444444444,
              "#bd3786"
             ],
             [
              0.5555555555555556,
              "#d8576b"
             ],
             [
              0.6666666666666666,
              "#ed7953"
             ],
             [
              0.7777777777777778,
              "#fb9f3a"
             ],
             [
              0.8888888888888888,
              "#fdca26"
             ],
             [
              1,
              "#f0f921"
             ]
            ],
            "type": "histogram2dcontour"
           }
          ],
          "mesh3d": [
           {
            "colorbar": {
             "outlinewidth": 0,
             "ticks": ""
            },
            "type": "mesh3d"
           }
          ],
          "parcoords": [
           {
            "line": {
             "colorbar": {
              "outlinewidth": 0,
              "ticks": ""
             }
            },
            "type": "parcoords"
           }
          ],
          "pie": [
           {
            "automargin": true,
            "type": "pie"
           }
          ],
          "scatter": [
           {
            "fillpattern": {
             "fillmode": "overlay",
             "size": 10,
             "solidity": 0.2
            },
            "type": "scatter"
           }
          ],
          "scatter3d": [
           {
            "line": {
             "colorbar": {
              "outlinewidth": 0,
              "ticks": ""
             }
            },
            "marker": {
             "colorbar": {
              "outlinewidth": 0,
              "ticks": ""
             }
            },
            "type": "scatter3d"
           }
          ],
          "scattercarpet": [
           {
            "marker": {
             "colorbar": {
              "outlinewidth": 0,
              "ticks": ""
             }
            },
            "type": "scattercarpet"
           }
          ],
          "scattergeo": [
           {
            "marker": {
             "colorbar": {
              "outlinewidth": 0,
              "ticks": ""
             }
            },
            "type": "scattergeo"
           }
          ],
          "scattergl": [
           {
            "marker": {
             "colorbar": {
              "outlinewidth": 0,
              "ticks": ""
             }
            },
            "type": "scattergl"
           }
          ],
          "scattermapbox": [
           {
            "marker": {
             "colorbar": {
              "outlinewidth": 0,
              "ticks": ""
             }
            },
            "type": "scattermapbox"
           }
          ],
          "scatterpolar": [
           {
            "marker": {
             "colorbar": {
              "outlinewidth": 0,
              "ticks": ""
             }
            },
            "type": "scatterpolar"
           }
          ],
          "scatterpolargl": [
           {
            "marker": {
             "colorbar": {
              "outlinewidth": 0,
              "ticks": ""
             }
            },
            "type": "scatterpolargl"
           }
          ],
          "scatterternary": [
           {
            "marker": {
             "colorbar": {
              "outlinewidth": 0,
              "ticks": ""
             }
            },
            "type": "scatterternary"
           }
          ],
          "surface": [
           {
            "colorbar": {
             "outlinewidth": 0,
             "ticks": ""
            },
            "colorscale": [
             [
              0,
              "#0d0887"
             ],
             [
              0.1111111111111111,
              "#46039f"
             ],
             [
              0.2222222222222222,
              "#7201a8"
             ],
             [
              0.3333333333333333,
              "#9c179e"
             ],
             [
              0.4444444444444444,
              "#bd3786"
             ],
             [
              0.5555555555555556,
              "#d8576b"
             ],
             [
              0.6666666666666666,
              "#ed7953"
             ],
             [
              0.7777777777777778,
              "#fb9f3a"
             ],
             [
              0.8888888888888888,
              "#fdca26"
             ],
             [
              1,
              "#f0f921"
             ]
            ],
            "type": "surface"
           }
          ],
          "table": [
           {
            "cells": {
             "fill": {
              "color": "#EBF0F8"
             },
             "line": {
              "color": "white"
             }
            },
            "header": {
             "fill": {
              "color": "#C8D4E3"
             },
             "line": {
              "color": "white"
             }
            },
            "type": "table"
           }
          ]
         },
         "layout": {
          "annotationdefaults": {
           "arrowcolor": "#2a3f5f",
           "arrowhead": 0,
           "arrowwidth": 1
          },
          "autotypenumbers": "strict",
          "coloraxis": {
           "colorbar": {
            "outlinewidth": 0,
            "ticks": ""
           }
          },
          "colorscale": {
           "diverging": [
            [
             0,
             "#8e0152"
            ],
            [
             0.1,
             "#c51b7d"
            ],
            [
             0.2,
             "#de77ae"
            ],
            [
             0.3,
             "#f1b6da"
            ],
            [
             0.4,
             "#fde0ef"
            ],
            [
             0.5,
             "#f7f7f7"
            ],
            [
             0.6,
             "#e6f5d0"
            ],
            [
             0.7,
             "#b8e186"
            ],
            [
             0.8,
             "#7fbc41"
            ],
            [
             0.9,
             "#4d9221"
            ],
            [
             1,
             "#276419"
            ]
           ],
           "sequential": [
            [
             0,
             "#0d0887"
            ],
            [
             0.1111111111111111,
             "#46039f"
            ],
            [
             0.2222222222222222,
             "#7201a8"
            ],
            [
             0.3333333333333333,
             "#9c179e"
            ],
            [
             0.4444444444444444,
             "#bd3786"
            ],
            [
             0.5555555555555556,
             "#d8576b"
            ],
            [
             0.6666666666666666,
             "#ed7953"
            ],
            [
             0.7777777777777778,
             "#fb9f3a"
            ],
            [
             0.8888888888888888,
             "#fdca26"
            ],
            [
             1,
             "#f0f921"
            ]
           ],
           "sequentialminus": [
            [
             0,
             "#0d0887"
            ],
            [
             0.1111111111111111,
             "#46039f"
            ],
            [
             0.2222222222222222,
             "#7201a8"
            ],
            [
             0.3333333333333333,
             "#9c179e"
            ],
            [
             0.4444444444444444,
             "#bd3786"
            ],
            [
             0.5555555555555556,
             "#d8576b"
            ],
            [
             0.6666666666666666,
             "#ed7953"
            ],
            [
             0.7777777777777778,
             "#fb9f3a"
            ],
            [
             0.8888888888888888,
             "#fdca26"
            ],
            [
             1,
             "#f0f921"
            ]
           ]
          },
          "colorway": [
           "#636efa",
           "#EF553B",
           "#00cc96",
           "#ab63fa",
           "#FFA15A",
           "#19d3f3",
           "#FF6692",
           "#B6E880",
           "#FF97FF",
           "#FECB52"
          ],
          "font": {
           "color": "#2a3f5f"
          },
          "geo": {
           "bgcolor": "white",
           "lakecolor": "white",
           "landcolor": "#E5ECF6",
           "showlakes": true,
           "showland": true,
           "subunitcolor": "white"
          },
          "hoverlabel": {
           "align": "left"
          },
          "hovermode": "closest",
          "mapbox": {
           "style": "light"
          },
          "paper_bgcolor": "white",
          "plot_bgcolor": "#E5ECF6",
          "polar": {
           "angularaxis": {
            "gridcolor": "white",
            "linecolor": "white",
            "ticks": ""
           },
           "bgcolor": "#E5ECF6",
           "radialaxis": {
            "gridcolor": "white",
            "linecolor": "white",
            "ticks": ""
           }
          },
          "scene": {
           "xaxis": {
            "backgroundcolor": "#E5ECF6",
            "gridcolor": "white",
            "gridwidth": 2,
            "linecolor": "white",
            "showbackground": true,
            "ticks": "",
            "zerolinecolor": "white"
           },
           "yaxis": {
            "backgroundcolor": "#E5ECF6",
            "gridcolor": "white",
            "gridwidth": 2,
            "linecolor": "white",
            "showbackground": true,
            "ticks": "",
            "zerolinecolor": "white"
           },
           "zaxis": {
            "backgroundcolor": "#E5ECF6",
            "gridcolor": "white",
            "gridwidth": 2,
            "linecolor": "white",
            "showbackground": true,
            "ticks": "",
            "zerolinecolor": "white"
           }
          },
          "shapedefaults": {
           "line": {
            "color": "#2a3f5f"
           }
          },
          "ternary": {
           "aaxis": {
            "gridcolor": "white",
            "linecolor": "white",
            "ticks": ""
           },
           "baxis": {
            "gridcolor": "white",
            "linecolor": "white",
            "ticks": ""
           },
           "bgcolor": "#E5ECF6",
           "caxis": {
            "gridcolor": "white",
            "linecolor": "white",
            "ticks": ""
           }
          },
          "title": {
           "x": 0.05
          },
          "xaxis": {
           "automargin": true,
           "gridcolor": "white",
           "linecolor": "white",
           "ticks": "",
           "title": {
            "standoff": 15
           },
           "zerolinecolor": "white",
           "zerolinewidth": 2
          },
          "yaxis": {
           "automargin": true,
           "gridcolor": "white",
           "linecolor": "white",
           "ticks": "",
           "title": {
            "standoff": 15
           },
           "zerolinecolor": "white",
           "zerolinewidth": 2
          }
         }
        },
        "violinmode": "group",
        "xaxis": {
         "anchor": "y",
         "domain": [
          0,
          1
         ],
         "title": {
          "text": "smoker"
         }
        },
        "yaxis": {
         "anchor": "x",
         "domain": [
          0,
          1
         ],
         "title": {
          "text": "tip"
         }
        }
       }
      }
     },
     "metadata": {},
     "output_type": "display_data"
    },
    {
     "data": {
      "text/html": [
       "<div>\n",
       "<style scoped>\n",
       "    .dataframe tbody tr th:only-of-type {\n",
       "        vertical-align: middle;\n",
       "    }\n",
       "\n",
       "    .dataframe tbody tr th {\n",
       "        vertical-align: top;\n",
       "    }\n",
       "\n",
       "    .dataframe thead th {\n",
       "        text-align: right;\n",
       "    }\n",
       "</style>\n",
       "<table border=\"1\" class=\"dataframe\">\n",
       "  <thead>\n",
       "    <tr style=\"text-align: right;\">\n",
       "      <th></th>\n",
       "      <th>total_bill</th>\n",
       "      <th>tip</th>\n",
       "      <th>sex</th>\n",
       "      <th>smoker</th>\n",
       "      <th>day</th>\n",
       "      <th>time</th>\n",
       "      <th>size</th>\n",
       "    </tr>\n",
       "  </thead>\n",
       "  <tbody>\n",
       "    <tr>\n",
       "      <th>0</th>\n",
       "      <td>16.99</td>\n",
       "      <td>1.01</td>\n",
       "      <td>Female</td>\n",
       "      <td>No</td>\n",
       "      <td>Sun</td>\n",
       "      <td>Dinner</td>\n",
       "      <td>2</td>\n",
       "    </tr>\n",
       "    <tr>\n",
       "      <th>1</th>\n",
       "      <td>10.34</td>\n",
       "      <td>1.66</td>\n",
       "      <td>Male</td>\n",
       "      <td>No</td>\n",
       "      <td>Sun</td>\n",
       "      <td>Dinner</td>\n",
       "      <td>3</td>\n",
       "    </tr>\n",
       "    <tr>\n",
       "      <th>2</th>\n",
       "      <td>21.01</td>\n",
       "      <td>3.50</td>\n",
       "      <td>Male</td>\n",
       "      <td>No</td>\n",
       "      <td>Sun</td>\n",
       "      <td>Dinner</td>\n",
       "      <td>3</td>\n",
       "    </tr>\n",
       "    <tr>\n",
       "      <th>3</th>\n",
       "      <td>23.68</td>\n",
       "      <td>3.31</td>\n",
       "      <td>Male</td>\n",
       "      <td>No</td>\n",
       "      <td>Sun</td>\n",
       "      <td>Dinner</td>\n",
       "      <td>2</td>\n",
       "    </tr>\n",
       "    <tr>\n",
       "      <th>4</th>\n",
       "      <td>24.59</td>\n",
       "      <td>3.61</td>\n",
       "      <td>Female</td>\n",
       "      <td>No</td>\n",
       "      <td>Sun</td>\n",
       "      <td>Dinner</td>\n",
       "      <td>4</td>\n",
       "    </tr>\n",
       "    <tr>\n",
       "      <th>...</th>\n",
       "      <td>...</td>\n",
       "      <td>...</td>\n",
       "      <td>...</td>\n",
       "      <td>...</td>\n",
       "      <td>...</td>\n",
       "      <td>...</td>\n",
       "      <td>...</td>\n",
       "    </tr>\n",
       "    <tr>\n",
       "      <th>239</th>\n",
       "      <td>29.03</td>\n",
       "      <td>5.92</td>\n",
       "      <td>Male</td>\n",
       "      <td>No</td>\n",
       "      <td>Sat</td>\n",
       "      <td>Dinner</td>\n",
       "      <td>3</td>\n",
       "    </tr>\n",
       "    <tr>\n",
       "      <th>240</th>\n",
       "      <td>27.18</td>\n",
       "      <td>2.00</td>\n",
       "      <td>Female</td>\n",
       "      <td>Yes</td>\n",
       "      <td>Sat</td>\n",
       "      <td>Dinner</td>\n",
       "      <td>2</td>\n",
       "    </tr>\n",
       "    <tr>\n",
       "      <th>241</th>\n",
       "      <td>22.67</td>\n",
       "      <td>2.00</td>\n",
       "      <td>Male</td>\n",
       "      <td>Yes</td>\n",
       "      <td>Sat</td>\n",
       "      <td>Dinner</td>\n",
       "      <td>2</td>\n",
       "    </tr>\n",
       "    <tr>\n",
       "      <th>242</th>\n",
       "      <td>17.82</td>\n",
       "      <td>1.75</td>\n",
       "      <td>Male</td>\n",
       "      <td>No</td>\n",
       "      <td>Sat</td>\n",
       "      <td>Dinner</td>\n",
       "      <td>2</td>\n",
       "    </tr>\n",
       "    <tr>\n",
       "      <th>243</th>\n",
       "      <td>18.78</td>\n",
       "      <td>3.00</td>\n",
       "      <td>Female</td>\n",
       "      <td>No</td>\n",
       "      <td>Thur</td>\n",
       "      <td>Dinner</td>\n",
       "      <td>2</td>\n",
       "    </tr>\n",
       "  </tbody>\n",
       "</table>\n",
       "<p>244 rows × 7 columns</p>\n",
       "</div>"
      ],
      "text/plain": [
       "     total_bill   tip     sex smoker   day    time  size\n",
       "0         16.99  1.01  Female     No   Sun  Dinner     2\n",
       "1         10.34  1.66    Male     No   Sun  Dinner     3\n",
       "2         21.01  3.50    Male     No   Sun  Dinner     3\n",
       "3         23.68  3.31    Male     No   Sun  Dinner     2\n",
       "4         24.59  3.61  Female     No   Sun  Dinner     4\n",
       "..          ...   ...     ...    ...   ...     ...   ...\n",
       "239       29.03  5.92    Male     No   Sat  Dinner     3\n",
       "240       27.18  2.00  Female    Yes   Sat  Dinner     2\n",
       "241       22.67  2.00    Male    Yes   Sat  Dinner     2\n",
       "242       17.82  1.75    Male     No   Sat  Dinner     2\n",
       "243       18.78  3.00  Female     No  Thur  Dinner     2\n",
       "\n",
       "[244 rows x 7 columns]"
      ]
     },
     "metadata": {},
     "output_type": "display_data"
    }
   ],
   "source": [
    "import plotly.express as px\n",
    "import pandas as pd\n",
    "\n",
    "df = px.data.tips()\n",
    "fig = px.violin(df, y=\"tip\", x=\"smoker\", color=\"sex\", box=True, points=\"all\",\n",
    "          hover_data=df.columns)\n",
    "fig.show()\n",
    "display(df)"
   ]
  },
  {
   "cell_type": "code",
   "execution_count": 3,
   "metadata": {},
   "outputs": [
    {
     "ename": "UFuncTypeError",
     "evalue": "ufunc 'add' did not contain a loop with signature matching types (dtype('float64'), dtype('<U9')) -> None",
     "output_type": "error",
     "traceback": [
      "\u001b[1;31m---------------------------------------------------------------------------\u001b[0m",
      "\u001b[1;31mUFuncTypeError\u001b[0m                            Traceback (most recent call last)",
      "Cell \u001b[1;32mIn [3], line 15\u001b[0m\n\u001b[0;32m     12\u001b[0m         data\u001b[39m.\u001b[39mappend(val\u001b[39m.\u001b[39mdetach()\u001b[39m.\u001b[39mnumpy()\u001b[39m.\u001b[39mflatten())\n\u001b[0;32m     13\u001b[0m         labels\u001b[39m.\u001b[39mappend(n)\n\u001b[1;32m---> 15\u001b[0m plt\u001b[39m.\u001b[39;49mviolinplot(data, labels)\n",
      "File \u001b[1;32mc:\\Users\\scott\\anaconda3\\envs\\pytorch\\lib\\site-packages\\matplotlib\\pyplot.py:2961\u001b[0m, in \u001b[0;36mviolinplot\u001b[1;34m(dataset, positions, vert, widths, showmeans, showextrema, showmedians, quantiles, points, bw_method, data)\u001b[0m\n\u001b[0;32m   2956\u001b[0m \u001b[39m@_copy_docstring_and_deprecators\u001b[39m(Axes\u001b[39m.\u001b[39mviolinplot)\n\u001b[0;32m   2957\u001b[0m \u001b[39mdef\u001b[39;00m \u001b[39mviolinplot\u001b[39m(\n\u001b[0;32m   2958\u001b[0m         dataset, positions\u001b[39m=\u001b[39m\u001b[39mNone\u001b[39;00m, vert\u001b[39m=\u001b[39m\u001b[39mTrue\u001b[39;00m, widths\u001b[39m=\u001b[39m\u001b[39m0.5\u001b[39m,\n\u001b[0;32m   2959\u001b[0m         showmeans\u001b[39m=\u001b[39m\u001b[39mFalse\u001b[39;00m, showextrema\u001b[39m=\u001b[39m\u001b[39mTrue\u001b[39;00m, showmedians\u001b[39m=\u001b[39m\u001b[39mFalse\u001b[39;00m,\n\u001b[0;32m   2960\u001b[0m         quantiles\u001b[39m=\u001b[39m\u001b[39mNone\u001b[39;00m, points\u001b[39m=\u001b[39m\u001b[39m100\u001b[39m, bw_method\u001b[39m=\u001b[39m\u001b[39mNone\u001b[39;00m, \u001b[39m*\u001b[39m, data\u001b[39m=\u001b[39m\u001b[39mNone\u001b[39;00m):\n\u001b[1;32m-> 2961\u001b[0m     \u001b[39mreturn\u001b[39;00m gca()\u001b[39m.\u001b[39;49mviolinplot(\n\u001b[0;32m   2962\u001b[0m         dataset, positions\u001b[39m=\u001b[39;49mpositions, vert\u001b[39m=\u001b[39;49mvert, widths\u001b[39m=\u001b[39;49mwidths,\n\u001b[0;32m   2963\u001b[0m         showmeans\u001b[39m=\u001b[39;49mshowmeans, showextrema\u001b[39m=\u001b[39;49mshowextrema,\n\u001b[0;32m   2964\u001b[0m         showmedians\u001b[39m=\u001b[39;49mshowmedians, quantiles\u001b[39m=\u001b[39;49mquantiles, points\u001b[39m=\u001b[39;49mpoints,\n\u001b[0;32m   2965\u001b[0m         bw_method\u001b[39m=\u001b[39;49mbw_method,\n\u001b[0;32m   2966\u001b[0m         \u001b[39m*\u001b[39;49m\u001b[39m*\u001b[39;49m({\u001b[39m\"\u001b[39;49m\u001b[39mdata\u001b[39;49m\u001b[39m\"\u001b[39;49m: data} \u001b[39mif\u001b[39;49;00m data \u001b[39mis\u001b[39;49;00m \u001b[39mnot\u001b[39;49;00m \u001b[39mNone\u001b[39;49;00m \u001b[39melse\u001b[39;49;00m {}))\n",
      "File \u001b[1;32mc:\\Users\\scott\\anaconda3\\envs\\pytorch\\lib\\site-packages\\matplotlib\\__init__.py:1423\u001b[0m, in \u001b[0;36m_preprocess_data.<locals>.inner\u001b[1;34m(ax, data, *args, **kwargs)\u001b[0m\n\u001b[0;32m   1420\u001b[0m \u001b[39m@functools\u001b[39m\u001b[39m.\u001b[39mwraps(func)\n\u001b[0;32m   1421\u001b[0m \u001b[39mdef\u001b[39;00m \u001b[39minner\u001b[39m(ax, \u001b[39m*\u001b[39margs, data\u001b[39m=\u001b[39m\u001b[39mNone\u001b[39;00m, \u001b[39m*\u001b[39m\u001b[39m*\u001b[39mkwargs):\n\u001b[0;32m   1422\u001b[0m     \u001b[39mif\u001b[39;00m data \u001b[39mis\u001b[39;00m \u001b[39mNone\u001b[39;00m:\n\u001b[1;32m-> 1423\u001b[0m         \u001b[39mreturn\u001b[39;00m func(ax, \u001b[39m*\u001b[39;49m\u001b[39mmap\u001b[39;49m(sanitize_sequence, args), \u001b[39m*\u001b[39;49m\u001b[39m*\u001b[39;49mkwargs)\n\u001b[0;32m   1425\u001b[0m     bound \u001b[39m=\u001b[39m new_sig\u001b[39m.\u001b[39mbind(ax, \u001b[39m*\u001b[39margs, \u001b[39m*\u001b[39m\u001b[39m*\u001b[39mkwargs)\n\u001b[0;32m   1426\u001b[0m     auto_label \u001b[39m=\u001b[39m (bound\u001b[39m.\u001b[39marguments\u001b[39m.\u001b[39mget(label_namer)\n\u001b[0;32m   1427\u001b[0m                   \u001b[39mor\u001b[39;00m bound\u001b[39m.\u001b[39mkwargs\u001b[39m.\u001b[39mget(label_namer))\n",
      "File \u001b[1;32mc:\\Users\\scott\\anaconda3\\envs\\pytorch\\lib\\site-packages\\matplotlib\\axes\\_axes.py:8007\u001b[0m, in \u001b[0;36mAxes.violinplot\u001b[1;34m(self, dataset, positions, vert, widths, showmeans, showextrema, showmedians, quantiles, points, bw_method)\u001b[0m\n\u001b[0;32m   8003\u001b[0m     \u001b[39mreturn\u001b[39;00m kde\u001b[39m.\u001b[39mevaluate(coords)\n\u001b[0;32m   8005\u001b[0m vpstats \u001b[39m=\u001b[39m cbook\u001b[39m.\u001b[39mviolin_stats(dataset, _kde_method, points\u001b[39m=\u001b[39mpoints,\n\u001b[0;32m   8006\u001b[0m                              quantiles\u001b[39m=\u001b[39mquantiles)\n\u001b[1;32m-> 8007\u001b[0m \u001b[39mreturn\u001b[39;00m \u001b[39mself\u001b[39;49m\u001b[39m.\u001b[39;49mviolin(vpstats, positions\u001b[39m=\u001b[39;49mpositions, vert\u001b[39m=\u001b[39;49mvert,\n\u001b[0;32m   8008\u001b[0m                    widths\u001b[39m=\u001b[39;49mwidths, showmeans\u001b[39m=\u001b[39;49mshowmeans,\n\u001b[0;32m   8009\u001b[0m                    showextrema\u001b[39m=\u001b[39;49mshowextrema, showmedians\u001b[39m=\u001b[39;49mshowmedians)\n",
      "File \u001b[1;32mc:\\Users\\scott\\anaconda3\\envs\\pytorch\\lib\\site-packages\\matplotlib\\axes\\_axes.py:8126\u001b[0m, in \u001b[0;36mAxes.violin\u001b[1;34m(self, vpstats, positions, vert, widths, showmeans, showextrema, showmedians)\u001b[0m\n\u001b[0;32m   8123\u001b[0m     \u001b[39mraise\u001b[39;00m \u001b[39mValueError\u001b[39;00m(datashape_message\u001b[39m.\u001b[39mformat(\u001b[39m\"\u001b[39m\u001b[39mwidths\u001b[39m\u001b[39m\"\u001b[39m))\n\u001b[0;32m   8125\u001b[0m \u001b[39m# Calculate ranges for statistics lines (shape (2, N)).\u001b[39;00m\n\u001b[1;32m-> 8126\u001b[0m line_ends \u001b[39m=\u001b[39m [[\u001b[39m-\u001b[39;49m\u001b[39m0.25\u001b[39;49m], [\u001b[39m0.25\u001b[39;49m]] \u001b[39m*\u001b[39;49m np\u001b[39m.\u001b[39;49marray(widths) \u001b[39m+\u001b[39;49m positions\n\u001b[0;32m   8128\u001b[0m \u001b[39m# Colors.\u001b[39;00m\n\u001b[0;32m   8129\u001b[0m \u001b[39mif\u001b[39;00m mpl\u001b[39m.\u001b[39mrcParams[\u001b[39m'\u001b[39m\u001b[39m_internal.classic_mode\u001b[39m\u001b[39m'\u001b[39m]:\n",
      "\u001b[1;31mUFuncTypeError\u001b[0m: ufunc 'add' did not contain a loop with signature matching types (dtype('float64'), dtype('<U9')) -> None"
     ]
    },
    {
     "data": {
      "image/png": "[encoded data removed]",
      "text/plain": [
       "<Figure size 640x480 with 1 Axes>"
      ]
     },
     "metadata": {},
     "output_type": "display_data"
    }
   ],
   "source": [
    "model_layers = []\n",
    "for i in range(0, 1):\n",
    "    todo_layer = model2.blocks[i]\n",
    "    model_layers.append(get_linear_layers(todo_layer, specify_names=None, prefix=f\"{i}-\"))\n",
    "# print(model_layers[0].weight.detach().numpy().flatten())\n",
    "\n",
    "data = []\n",
    "labels = []\n",
    "for layer in model_layers:\n",
    "    for n, m in layer:\n",
    "        val = m.weight\n",
    "        data.append(val.detach().numpy().flatten())\n",
    "        labels.append(n)\n",
    "\n",
    "plt.violinplot(data, labels=labels)"
   ]
  },
  {
   "cell_type": "code",
   "execution_count": 83,
   "metadata": {},
   "outputs": [
    {
     "name": "stdout",
     "output_type": "stream",
     "text": [
      "torch.Size([384, 384]) torch.Size([196, 196]) torch.Size([384, 384])\n"
     ]
    },
    {
     "data": {
      "text/plain": [
       "True"
      ]
     },
     "execution_count": 83,
     "metadata": {},
     "output_type": "execute_result"
    }
   ],
   "source": [
    "l1 = model1.blocks[0].norm1.eval()\n",
    "l2 = model1.blocks[0].attn.eval()\n",
    "l3 = model1.blocks[0].gamma_1.eval()\n",
    "\n",
    "print(l1.weight.shape, l2.weight.shape, l3.weight.shape)\n",
    "\n",
    "x = torch.randn(1, 196, 384)\n",
    "\n",
    "# F.linear(l1.weight, l2.weight)\n",
    "# l1(x)\n",
    "\n",
    "# fuse the three linears\n",
    "\n",
    "W1 = l1.weight * l3.weight\n",
    "B1 = l1.bias.repeat(196,1)@ l3.weight + torch.inverse(l2.weight) @ l2.bias.repeat(384,1).T @ l3.weight\n",
    "\n",
    "W2 = l2.weight\n",
    "# weight = l2.weight @ l1.weight\n",
    "# bias = l2.bias + F.linear(l2.weight, l1.bias)\n",
    "\n",
    "out1 = l3(l2(l1(x).transpose(1,2)).transpose(1,2))\n",
    "out2 = W2 @ (x @ W1 + B1)\n",
    "torch.allclose(out1, out2, atol=1e-5)"
   ]
  },
  {
   "cell_type": "markdown",
   "metadata": {},
   "source": [
    "l2.in_features"
   ]
  },
  {
   "cell_type": "markdown",
   "metadata": {},
   "source": [
    "\n",
    "torch.load(\"fin_S24_ReLU.pth\")"
   ]
  },
  {
   "cell_type": "code",
   "execution_count": 2,
   "metadata": {},
   "outputs": [
    {
     "data": {
      "image/png": "[encoded data removed]",
      "text/plain": [
       "<Figure size 2000x1000 with 2 Axes>"
      ]
     },
     "metadata": {},
     "output_type": "display_data"
    }
   ],
   "source": [
    "fig, ax = plt.subplots(2,1, figsize=(20, 10))\n",
    "ax[0].get_xaxis().set_visible(False)\n",
    "ax[1].get_xaxis().set_visible(False)\n",
    "\n",
    "# cle_for_resmlp(model)\n",
    "# model2.cpu()\n",
    "layer_dist(model1, 0, 23, name=\"ResMLP: Weight Distribution\", ax=ax[0], type=\"bias\")\n",
    "\n",
    "# model2.cpu()\n",
    "# cle_for_resmlp_v3(model2)\n",
    "layer_dist(model2, 0, 23, name=\"ResMLP-fin: Weight Distribution\", ax=ax[1], type=\"bias\")"
   ]
  },
  {
   "cell_type": "code",
   "execution_count": 11,
   "metadata": {},
   "outputs": [
    {
     "data": {
      "image/png": "[encoded data removed]",
      "text/plain": [
       "<Figure size 2000x1000 with 2 Axes>"
      ]
     },
     "metadata": {},
     "output_type": "display_data"
    }
   ],
   "source": [
    "fig, ax = plt.subplots(2,1, figsize=(20, 10))\n",
    "ax[0].get_xaxis().set_visible(False)\n",
    "ax[1].get_xaxis().set_visible(False)\n",
    "\n",
    "# cle_for_resmlp(model)\n",
    "model1.cpu()\n",
    "# cle_for_resmlp(model1)\n",
    "layer_dist(model1, 0, 23, name=\"ResMLP: Weight Distribution\", ax=ax[0])\n",
    "\n",
    "model2.cpu()\n",
    "# cle_for_resmlp_v3(model2)\n",
    "layer_dist(model2, 0, 23, name=\"ResMLP-v3: Weight Distribution\", ax=ax[1])\n",
    "# layer_dist(model, 0, 23, name='ResMLP-V3: Bias Distribution', ax=ax[1], type=\"bias\")\n",
    "# cle_for_resmlp(model)\n",
    "# res_\n",
    "# cle_for_resmlp(model_norm)\n",
    "# layer_dist(model, 0, 23, name=\"ResMLP-BN: Weight Distribution (before CLE)\", ax=ax[1])"
   ]
  },
  {
   "cell_type": "code",
   "execution_count": 14,
   "metadata": {},
   "outputs": [
    {
     "name": "stdout",
     "output_type": "stream",
     "text": [
      "Loading a small piece of training data...\n",
      "Calibrating...\n",
      "Calibrate: [ 0/21]\tTime  9.336 ( 9.336)\n",
      "Calibrate: [10/21]\tTime  1.742 ( 2.388)\n",
      "Calibrate: [20/21]\tTime  0.193 ( 1.986)\n",
      "Loading a small piece of training data...\n",
      "Calibrating...\n",
      "Calibrate: [ 0/21]\tTime  9.337 ( 9.337)\n",
      "Calibrate: [10/21]\tTime  2.128 ( 2.765)\n",
      "Calibrate: [20/21]\tTime  0.274 ( 2.363)\n"
     ]
    },
    {
     "data": {
      "image/png": "[encoded data removed]",
      "text/plain": [
       "<Figure size 2000x1000 with 2 Axes>"
      ]
     },
     "metadata": {},
     "output_type": "display_data"
    }
   ],
   "source": [
    "fig, ax = plt.subplots(2,1, figsize=(20, 10))\n",
    "ax[0].get_xaxis().set_visible(False)\n",
    "ax[1].get_xaxis().set_visible(False)\n",
    "\n",
    "# cle_for_resmlp(model)\n",
    "model2.cuda()\n",
    "act_dist(model2, 0, 9, name='ResMLP-v3 0-9: Activation - Inner', show_layers=[\"inner\"], ax=ax[0], real_sim=True)\n",
    "\n",
    "# model2.cpu()\n",
    "# cle_for_resmlp_v3(model2)\n",
    "model2.cuda()\n",
    "act_dist(model2, 0, 9, name='ResMLP-v3 0-9: Activation - Others', show_layers=[\"outer\", \"mlp.fc1\", \"mlp.fc2\"], ax=ax[1], real_sim=True)"
   ]
  },
  {
   "cell_type": "code",
   "execution_count": null,
   "metadata": {},
   "outputs": [],
   "source": [
    "fig, ax = plt.subplots(2,1, figsize=(20, 10))\n",
    "ax[0].get_xaxis().set_visible(False)\n",
    "ax[1].get_xaxis().set_visible(False)\n",
    "\n",
    "# cle_for_resmlp(model)\n",
    "model1.cuda()\n",
    "act_dist(model1, 0, 23, name='ResMLP: Activation Distribution', show_layers=[\"inner\", \"mlp.fc2\"], ax=ax[0], real_sim=True)\n",
    "\n",
    "# model2.cpu()\n",
    "# cle_for_resmlp_v3(model2)\n",
    "model2.cuda()\n",
    "act_dist(model2, 0, 23, name='ResMLP-v3: Activation Distribution', show_layers=[\"mlp.fc1\", \"mlp.fc2\"], ax=ax[1], real_sim=True)"
   ]
  },
  {
   "cell_type": "code",
   "execution_count": 6,
   "metadata": {},
   "outputs": [
    {
     "data": {
      "image/png": "[encoded data removed]",
      "text/plain": [
       "<Figure size 2000x1000 with 2 Axes>"
      ]
     },
     "metadata": {},
     "output_type": "display_data"
    }
   ],
   "source": [
    "fig, ax = plt.subplots(2,1, figsize=(20, 10))\n",
    "ax[0].get_xaxis().set_visible(False)\n",
    "ax[1].get_xaxis().set_visible(False)\n",
    "\n",
    "# cle_for_resmlp(model)\n",
    "model.cpu()\n",
    "layer_dist(model, 0, 23, name=\"ResMLP(ReLU): Cross Channel Weight Distribution\", show_layers=[\"mlp.fc1\", \"mlp.fc2\"], type=\"weight\", ax=ax[0])\n",
    "# cle_for_resmlp(model)\n",
    "# res_\n",
    "# cle_for_resmlp(model_norm)\n",
    "layer_dist(model, 0, 23, name=\"ResMLP: Cross Channel Bias Distribution\", show_layers=[\"mlp.fc1\", \"mlp.fc2\"], type=\"bias\", ax=ax[1])"
   ]
  },
  {
   "cell_type": "code",
   "execution_count": null,
   "metadata": {},
   "outputs": [],
   "source": [
    "# model = resmlp_24(pretrained=True).eval()\n",
    "fig, ax = plt.subplots(2,1, figsize=(20, 10))\n",
    "ax[0].get_xaxis().set_visible(False)\n",
    "ax[1].get_xaxis().set_visible(False)\n",
    "\n",
    "# model.cuda()\n",
    "# model_norm.cuda()\n",
    "model.cpu()\n",
    "model_norm.cpu()\n",
    "labels, data = scale_plot(model, 0, 23, show_layers=[\"gamma_1\", \"gamma_2\"], name='Scale of gamma_1, gamma_2', ax=ax[0])\n",
    "for label in (ax[0].get_xticklabels() + ax[0].get_yticklabels()):\n",
    "    label.set_fontsize(16)\n",
    "ax[0].plot(labels, data)\n",
    "add_value_labels(ax[0], skip_cnt=1, precision=2)\n",
    "\n",
    "labels, data = scale_plot(model_norm, 0, 23, show_layers=[\"gamma_1\", \"gamma_2\"], name='Scale of gamma_1, gamma_2', ax=ax[1])\n",
    "for label in (ax[1].get_xticklabels() + ax[1].get_yticklabels()):\n",
    "    label.set_fontsize(16)\n",
    "ax[1].plot(labels, data)\n",
    "add_value_labels(ax[1], skip_cnt=1, precision=2)\n",
    "\n"
   ]
  },
  {
   "cell_type": "code",
   "execution_count": null,
   "metadata": {},
   "outputs": [],
   "source": [
    "model = resmlp_24(pretrained=True).eval()\n",
    "fig, ax = plt.subplots(2,1, figsize=(20, 10))\n",
    "ax[0].get_xaxis().set_visible(False)\n",
    "ax[1].get_xaxis().set_visible(False)\n",
    "\n",
    "act_dist(model_norm, 0, 23, name='ResMLP-BN: Activation Distribution of Each Layer', ax=ax[0])\n",
    "\n",
    "act_dist(model_norm, 0, 23, name='ResMLP-BN: Activation Distribution of Each Layer (without attn)', show_layers=[\"mlp.fc1\", \"mlp.fc2\"], ax=ax[1])"
   ]
  },
  {
   "cell_type": "code",
   "execution_count": 8,
   "metadata": {},
   "outputs": [
    {
     "ename": "AttributeError",
     "evalue": "'resmlp_models' object has no attribute 'asda'",
     "output_type": "error",
     "traceback": [
      "\u001b[1;31m---------------------------------------------------------------------------\u001b[0m",
      "\u001b[1;31mAttributeError\u001b[0m                            Traceback (most recent call last)",
      "Cell \u001b[1;32mIn [8], line 1\u001b[0m\n\u001b[1;32m----> 1\u001b[0m model_norm\u001b[39m.\u001b[39;49masda\n",
      "File \u001b[1;32mc:\\Users\\scott\\anaconda3\\envs\\pytorch\\lib\\site-packages\\torch\\nn\\modules\\module.py:1207\u001b[0m, in \u001b[0;36mModule.__getattr__\u001b[1;34m(self, name)\u001b[0m\n\u001b[0;32m   1205\u001b[0m     \u001b[39mif\u001b[39;00m name \u001b[39min\u001b[39;00m modules:\n\u001b[0;32m   1206\u001b[0m         \u001b[39mreturn\u001b[39;00m modules[name]\n\u001b[1;32m-> 1207\u001b[0m \u001b[39mraise\u001b[39;00m \u001b[39mAttributeError\u001b[39;00m(\u001b[39m\"\u001b[39m\u001b[39m'\u001b[39m\u001b[39m{}\u001b[39;00m\u001b[39m'\u001b[39m\u001b[39m object has no attribute \u001b[39m\u001b[39m'\u001b[39m\u001b[39m{}\u001b[39;00m\u001b[39m'\u001b[39m\u001b[39m\"\u001b[39m\u001b[39m.\u001b[39mformat(\n\u001b[0;32m   1208\u001b[0m     \u001b[39mtype\u001b[39m(\u001b[39mself\u001b[39m)\u001b[39m.\u001b[39m\u001b[39m__name__\u001b[39m, name))\n",
      "\u001b[1;31mAttributeError\u001b[0m: 'resmlp_models' object has no attribute 'asda'"
     ]
    }
   ],
   "source": [
    "model_norm.asda"
   ]
  },
  {
   "cell_type": "code",
   "execution_count": null,
   "metadata": {},
   "outputs": [],
   "source": [
    "model = resmlp_24(pretrained=True).eval()\n",
    "fig, ax = plt.subplots(2,1, figsize=(20, 10))\n",
    "ax[0].get_xaxis().set_visible(False)\n",
    "ax[1].get_xaxis().set_visible(False)\n",
    "\n",
    "act_dist(model, 0, 23, name='Activation Distribution of Each Layer', ax=ax[0])\n",
    "\n",
    "act_dist(model_norm, 0, 23, name='ResMLP-BN: Activation Distribution of Each Layer', ax=ax[1])"
   ]
  },
  {
   "cell_type": "code",
   "execution_count": null,
   "metadata": {},
   "outputs": [],
   "source": [
    "# ckp = torch.load(\"./resmlp_norm2.pth\", map_location='cpu')[\"model\"]\n",
    "# modified_dict = {}\n",
    "# for k, v in ckp.items():\n",
    "#     # if \"norm\" in k:\n",
    "#     #     # print(k)\n",
    "#     #     if (\"weight\" in k) or (\"bias\" in k):\n",
    "#     #         continue\n",
    "#     modified_dict[k] = v\n",
    "\n",
    "# _ = model_norm.load_state_dict(ckp, strict=False)\n",
    "\n",
    "checkpoint = torch.load(\"./resmlp_norm2.pth\", map_location='cpu')[\"model\"]\n",
    "_ = model_norm.load_state_dict(checkpoint, strict=False)"
   ]
  },
  {
   "cell_type": "code",
   "execution_count": null,
   "metadata": {},
   "outputs": [],
   "source": [
    "model_norm = resmlp_24_norm(pretrained=True).eval()"
   ]
  },
  {
   "cell_type": "code",
   "execution_count": null,
   "metadata": {},
   "outputs": [],
   "source": [
    "import torchsummary as summary\n",
    "summary.summary(model, (3, 224, 224), device=\"cuda\")"
   ]
  },
  {
   "cell_type": "code",
   "execution_count": null,
   "metadata": {},
   "outputs": [],
   "source": [
    "import torchsummary as summary\n",
    "summary.summary(model_norm, (3, 224, 224), device=\"cuda\")"
   ]
  },
  {
   "cell_type": "code",
   "execution_count": null,
   "metadata": {},
   "outputs": [],
   "source": [
    "model = resmlp_24(pretrained=True).cuda().eval()\n",
    "model_norm = resmlp_24_norm(pretrained=True).cuda().eval()\n",
    "fig, ax = plt.subplots(2,1, figsize=(20, 10))\n",
    "ax[0].get_xaxis().set_visible(False)\n",
    "ax[1].get_xaxis().set_visible(False)\n",
    "\n",
    "act_dist(model, 0, 23, name='ResMLP-org: Activation Distribution of Each Layer', ax=ax[0], real_sim=False)\n",
    "act_dist(model_norm, 0, 23, name='ResMLP-BN: Activation Distribution of Each Layer', ax=ax[1], real_sim=False)"
   ]
  },
  {
   "cell_type": "code",
   "execution_count": null,
   "metadata": {},
   "outputs": [],
   "source": [
    "CHECKPOINT_PATH = \"input8-conv-res16-act8.pth.tar\"\n",
    "\n",
    "model = resmlp_24()\n",
    "qmodel = q_resmlp(model)\n",
    "qmodel.load_state_dict(torch.load(CHECKPOINT_PATH)['state_dict'])\n",
    "\n",
    "for n, m in qmodel.named_modules():\n",
    "    if isinstance(m, QLinear):\n",
    "        print(n)"
   ]
  },
  {
   "cell_type": "code",
   "execution_count": null,
   "metadata": {},
   "outputs": [],
   "source": [
    "model = resmlp_24(pretrained=False).eval()\n",
    "qmodel = q_resmlp(model)\n",
    "qmodel.load_state_dict(torch.load(CHECKPOINT_PATH)['state_dict'])\n",
    "fig, ax = plt.subplots(2,1, figsize=(20, 10))\n",
    "ax[0].get_xaxis().set_visible(False)\n",
    "ax[1].get_xaxis().set_visible(False)\n",
    "\n",
    "label_1 = []\n",
    "data_1 = []\n",
    "for n, m in qmodel.blocks.named_modules():\n",
    "    if \"add_1.observer\" in n:\n",
    "        label_1.append(n)\n",
    "        data_1.append([m.scale.item()])\n",
    "\n",
    "ax[0].set_title('Rescale After add_1 (fp)', size=30)\n",
    "ax[0].tick_params(labelrotation=30)\n",
    "for label in (ax[0].get_xticklabels() + ax[0].get_yticklabels()):\n",
    "    label.set_fontsize(16)\n",
    "ax[0].plot(label_1, data_1)\n",
    "add_value_labels(ax[0], skip_cnt=2, precision=4)\n",
    "\n",
    "label_2 = []\n",
    "data_2 = []\n",
    "for n, m in qmodel.named_modules():\n",
    "    if \"add_2.observer\" in n:\n",
    "        label_2.append(n)\n",
    "        data_2.append(m.scale.item())\n",
    "\n",
    "ax[1].set_title('Rescale After add_2 (fp)', size=30)\n",
    "ax[1].tick_params(labelrotation=30)\n",
    "for label in (ax[1].get_xticklabels() + ax[1].get_yticklabels()):\n",
    "    label.set_fontsize(16)\n",
    "ax[1].plot(label_2, data_2)\n",
    "add_value_labels(ax[1], skip_cnt=2, precision=4)"
   ]
  },
  {
   "cell_type": "code",
   "execution_count": null,
   "metadata": {},
   "outputs": [],
   "source": [
    "model = resmlp_24(pretrained=False).eval()\n",
    "qmodel = q_resmlp(model)\n",
    "qmodel.load_state_dict(torch.load(CHECKPOINT_PATH)['state_dict'])\n",
    "fig, ax = plt.subplots(2,1, figsize=(20, 10))\n",
    "ax[0].get_xaxis().set_visible(False)\n",
    "ax[1].get_xaxis().set_visible(False)\n",
    "\n",
    "label_1 = []\n",
    "data_1 = []\n",
    "for n, m in qmodel.blocks.named_modules():\n",
    "    if \"add\" in n and \"observer\" not in n:\n",
    "        label_1.append(n)\n",
    "        scale = (m.res_mult[0].type(torch.double) / (2.0 ** m.res_shift[0]).type(torch.double)).type(torch.float)\n",
    "        data_1.append(scale)\n",
    "\n",
    "ax[0].set_title('Alignment for Residual Layer (int16 -> int32)', size=30)\n",
    "ax[0].tick_params(labelrotation=30)\n",
    "for label in (ax[0].get_xticklabels() + ax[0].get_yticklabels()):\n",
    "    label.set_fontsize(16)\n",
    "ax[0].plot(label_1, data_1)\n",
    "add_value_labels(ax[0], skip_cnt=1, precision=2)\n",
    "\n",
    "\n",
    "label_2 = []\n",
    "data_2 = []\n",
    "for n, m in qmodel.named_modules():\n",
    "    if \"add\" in n and \"observer\" not in n:\n",
    "        label_2.append(n)\n",
    "        scale = (m.mult[0].type(torch.double) / (2.0 ** m.shift[0]).type(torch.double)).type(torch.float)\n",
    "        data_2.append(scale)\n",
    "\n",
    "ax[1].set_title('Rescale After Residual Connection (int32 -> int8)', size=30)\n",
    "ax[1].tick_params(labelrotation=30)\n",
    "for label in (ax[1].get_xticklabels() + ax[1].get_yticklabels()):\n",
    "    label.set_fontsize(16)\n",
    "ax[1].plot(label_2, data_2)\n",
    "add_value_labels(ax[1], skip_cnt=2, precision=2)"
   ]
  },
  {
   "cell_type": "code",
   "execution_count": null,
   "metadata": {},
   "outputs": [],
   "source": [
    "model = resmlp_24(pretrained=False).eval()\n",
    "qmodel = q_resmlp(model)\n",
    "qmodel.load_state_dict(torch.load(CHECKPOINT_PATH)['state_dict'])\n",
    "fig, ax = plt.subplots(2,1, figsize=(20, 10))\n",
    "ax[0].get_xaxis().set_visible(False)\n",
    "ax[1].get_xaxis().set_visible(False)\n",
    "\n",
    "label_1 = []\n",
    "data_1 = []\n",
    "for n, m in qmodel.named_modules():\n",
    "    if isinstance(m, QLinear):\n",
    "        label_1.append(n)\n",
    "        data_1.append(m.observer.scale.item())\n",
    "\n",
    "ax[0].set_title('Scales for Weights Layers (fp -> int8)', size=30)\n",
    "ax[0].tick_params(labelrotation=30)\n",
    "for label in (ax[0].get_xticklabels() + ax[0].get_yticklabels()):\n",
    "    label.set_fontsize(16)\n",
    "ax[0].plot(label_1, data_1)\n",
    "add_value_labels(ax[0], skip_cnt=9, precision=3)\n",
    "\n",
    "\n",
    "# label_2 = []\n",
    "# data_2 = []\n",
    "# for n, m in qmodel.named_modules():\n",
    "#     if \"add\" in n and \"observer\" not in n:\n",
    "#         label_2.append(n)\n",
    "#         scale = (m.mult[0].type(torch.double) / (2.0 ** m.shift[0]).type(torch.double)).type(torch.float)\n",
    "#         data_2.append(scale)\n",
    "\n",
    "# ax[1].set_title('Rescale After Residual Connection (int32 -> int8)', size=30)\n",
    "# ax[1].tick_params(labelrotation=30)\n",
    "# for label in (ax[1].get_xticklabels() + ax[1].get_yticklabels()):\n",
    "#     label.set_fontsize(16)\n",
    "# ax[1].plot(label_2, data_2)\n",
    "# add_value_labels(ax[1], skip_cnt=2, precision=2)"
   ]
  },
  {
   "cell_type": "markdown",
   "metadata": {},
   "source": [
    "### Weight Scale Test"
   ]
  },
  {
   "cell_type": "code",
   "execution_count": 51,
   "metadata": {},
   "outputs": [
    {
     "name": "stdout",
     "output_type": "stream",
     "text": [
      "----------------------------------------------------------------\n",
      "        Layer (type)               Output Shape         Param #\n",
      "================================================================\n",
      "            Conv2d-1          [-1, 384, 14, 14]         295,296\n",
      "          Identity-2             [-1, 196, 384]               0\n",
      "        PatchEmbed-3             [-1, 196, 384]               0\n",
      "            Linear-4             [-1, 196, 384]         147,840\n",
      "            Linear-5             [-1, 384, 196]          38,612\n",
      "            Linear-6             [-1, 196, 384]         147,456\n",
      "          Identity-7             [-1, 196, 384]               0\n",
      "          Identity-8             [-1, 196, 384]               0\n",
      "            Linear-9             [-1, 196, 384]         147,840\n",
      "           Linear-10            [-1, 196, 1536]         591,360\n",
      "             ReLU-11            [-1, 196, 1536]               0\n",
      "          Dropout-12            [-1, 196, 1536]               0\n",
      "           Linear-13             [-1, 196, 384]         590,208\n",
      "          Dropout-14             [-1, 196, 384]               0\n",
      "              Mlp-15             [-1, 196, 384]               0\n",
      "           Linear-16             [-1, 196, 384]         147,456\n",
      "         Identity-17             [-1, 196, 384]               0\n",
      "         Identity-18             [-1, 196, 384]               0\n",
      "layers_scale_mlp_blocks-19             [-1, 196, 384]               0\n",
      "           Linear-20             [-1, 196, 384]         147,840\n",
      "           Linear-21             [-1, 384, 196]          38,612\n",
      "           Linear-22             [-1, 196, 384]         147,456\n",
      "         Identity-23             [-1, 196, 384]               0\n",
      "         Identity-24             [-1, 196, 384]               0\n",
      "           Linear-25             [-1, 196, 384]         147,840\n",
      "           Linear-26            [-1, 196, 1536]         591,360\n",
      "             ReLU-27            [-1, 196, 1536]               0\n",
      "          Dropout-28            [-1, 196, 1536]               0\n",
      "           Linear-29             [-1, 196, 384]         590,208\n",
      "          Dropout-30             [-1, 196, 384]               0\n",
      "              Mlp-31             [-1, 196, 384]               0\n",
      "           Linear-32             [-1, 196, 384]         147,456\n",
      "         Identity-33             [-1, 196, 384]               0\n",
      "         Identity-34             [-1, 196, 384]               0\n",
      "layers_scale_mlp_blocks-35             [-1, 196, 384]               0\n",
      "           Linear-36             [-1, 196, 384]         147,840\n",
      "           Linear-37             [-1, 384, 196]          38,612\n",
      "           Linear-38             [-1, 196, 384]         147,456\n",
      "         Identity-39             [-1, 196, 384]               0\n",
      "         Identity-40             [-1, 196, 384]               0\n",
      "           Linear-41             [-1, 196, 384]         147,840\n",
      "           Linear-42            [-1, 196, 1536]         591,360\n",
      "             ReLU-43            [-1, 196, 1536]               0\n",
      "          Dropout-44            [-1, 196, 1536]               0\n",
      "           Linear-45             [-1, 196, 384]         590,208\n",
      "          Dropout-46             [-1, 196, 384]               0\n",
      "              Mlp-47             [-1, 196, 384]               0\n",
      "           Linear-48             [-1, 196, 384]         147,456\n",
      "         Identity-49             [-1, 196, 384]               0\n",
      "         Identity-50             [-1, 196, 384]               0\n",
      "layers_scale_mlp_blocks-51             [-1, 196, 384]               0\n",
      "           Linear-52             [-1, 196, 384]         147,840\n",
      "           Linear-53             [-1, 384, 196]          38,612\n",
      "           Linear-54             [-1, 196, 384]         147,456\n",
      "         Identity-55             [-1, 196, 384]               0\n",
      "         Identity-56             [-1, 196, 384]               0\n",
      "           Linear-57             [-1, 196, 384]         147,840\n",
      "           Linear-58            [-1, 196, 1536]         591,360\n",
      "             ReLU-59            [-1, 196, 1536]               0\n",
      "          Dropout-60            [-1, 196, 1536]               0\n",
      "           Linear-61             [-1, 196, 384]         590,208\n",
      "          Dropout-62             [-1, 196, 384]               0\n",
      "              Mlp-63             [-1, 196, 384]               0\n",
      "           Linear-64             [-1, 196, 384]         147,456\n",
      "         Identity-65             [-1, 196, 384]               0\n",
      "         Identity-66             [-1, 196, 384]               0\n",
      "layers_scale_mlp_blocks-67             [-1, 196, 384]               0\n",
      "           Linear-68             [-1, 196, 384]         147,840\n",
      "           Linear-69             [-1, 384, 196]          38,612\n",
      "           Linear-70             [-1, 196, 384]         147,456\n",
      "         Identity-71             [-1, 196, 384]               0\n",
      "         Identity-72             [-1, 196, 384]               0\n",
      "           Linear-73             [-1, 196, 384]         147,840\n",
      "           Linear-74            [-1, 196, 1536]         591,360\n",
      "             ReLU-75            [-1, 196, 1536]               0\n",
      "          Dropout-76            [-1, 196, 1536]               0\n",
      "           Linear-77             [-1, 196, 384]         590,208\n",
      "          Dropout-78             [-1, 196, 384]               0\n",
      "              Mlp-79             [-1, 196, 384]               0\n",
      "           Linear-80             [-1, 196, 384]         147,456\n",
      "         Identity-81             [-1, 196, 384]               0\n",
      "         Identity-82             [-1, 196, 384]               0\n",
      "layers_scale_mlp_blocks-83             [-1, 196, 384]               0\n",
      "           Linear-84             [-1, 196, 384]         147,840\n",
      "           Linear-85             [-1, 384, 196]          38,612\n",
      "           Linear-86             [-1, 196, 384]         147,456\n",
      "         Identity-87             [-1, 196, 384]               0\n",
      "         Identity-88             [-1, 196, 384]               0\n",
      "           Linear-89             [-1, 196, 384]         147,840\n",
      "           Linear-90            [-1, 196, 1536]         591,360\n",
      "             ReLU-91            [-1, 196, 1536]               0\n",
      "          Dropout-92            [-1, 196, 1536]               0\n",
      "           Linear-93             [-1, 196, 384]         590,208\n",
      "          Dropout-94             [-1, 196, 384]               0\n",
      "              Mlp-95             [-1, 196, 384]               0\n",
      "           Linear-96             [-1, 196, 384]         147,456\n",
      "         Identity-97             [-1, 196, 384]               0\n",
      "         Identity-98             [-1, 196, 384]               0\n",
      "layers_scale_mlp_blocks-99             [-1, 196, 384]               0\n",
      "          Linear-100             [-1, 196, 384]         147,840\n",
      "          Linear-101             [-1, 384, 196]          38,612\n",
      "          Linear-102             [-1, 196, 384]         147,456\n",
      "        Identity-103             [-1, 196, 384]               0\n",
      "        Identity-104             [-1, 196, 384]               0\n",
      "          Linear-105             [-1, 196, 384]         147,840\n",
      "          Linear-106            [-1, 196, 1536]         591,360\n",
      "            ReLU-107            [-1, 196, 1536]               0\n",
      "         Dropout-108            [-1, 196, 1536]               0\n",
      "          Linear-109             [-1, 196, 384]         590,208\n",
      "         Dropout-110             [-1, 196, 384]               0\n",
      "             Mlp-111             [-1, 196, 384]               0\n",
      "          Linear-112             [-1, 196, 384]         147,456\n",
      "        Identity-113             [-1, 196, 384]               0\n",
      "        Identity-114             [-1, 196, 384]               0\n",
      "layers_scale_mlp_blocks-115             [-1, 196, 384]               0\n",
      "          Linear-116             [-1, 196, 384]         147,840\n",
      "          Linear-117             [-1, 384, 196]          38,612\n",
      "          Linear-118             [-1, 196, 384]         147,456\n",
      "        Identity-119             [-1, 196, 384]               0\n",
      "        Identity-120             [-1, 196, 384]               0\n",
      "          Linear-121             [-1, 196, 384]         147,840\n",
      "          Linear-122            [-1, 196, 1536]         591,360\n",
      "            ReLU-123            [-1, 196, 1536]               0\n",
      "         Dropout-124            [-1, 196, 1536]               0\n",
      "          Linear-125             [-1, 196, 384]         590,208\n",
      "         Dropout-126             [-1, 196, 384]               0\n",
      "             Mlp-127             [-1, 196, 384]               0\n",
      "          Linear-128             [-1, 196, 384]         147,456\n",
      "        Identity-129             [-1, 196, 384]               0\n",
      "        Identity-130             [-1, 196, 384]               0\n",
      "layers_scale_mlp_blocks-131             [-1, 196, 384]               0\n",
      "          Linear-132             [-1, 196, 384]         147,840\n",
      "          Linear-133             [-1, 384, 196]          38,612\n",
      "          Linear-134             [-1, 196, 384]         147,456\n",
      "        Identity-135             [-1, 196, 384]               0\n",
      "        Identity-136             [-1, 196, 384]               0\n",
      "          Linear-137             [-1, 196, 384]         147,840\n",
      "          Linear-138            [-1, 196, 1536]         591,360\n",
      "            ReLU-139            [-1, 196, 1536]               0\n",
      "         Dropout-140            [-1, 196, 1536]               0\n",
      "          Linear-141             [-1, 196, 384]         590,208\n",
      "         Dropout-142             [-1, 196, 384]               0\n",
      "             Mlp-143             [-1, 196, 384]               0\n",
      "          Linear-144             [-1, 196, 384]         147,456\n",
      "        Identity-145             [-1, 196, 384]               0\n",
      "        Identity-146             [-1, 196, 384]               0\n",
      "layers_scale_mlp_blocks-147             [-1, 196, 384]               0\n",
      "          Linear-148             [-1, 196, 384]         147,840\n",
      "          Linear-149             [-1, 384, 196]          38,612\n",
      "          Linear-150             [-1, 196, 384]         147,456\n",
      "        Identity-151             [-1, 196, 384]               0\n",
      "        Identity-152             [-1, 196, 384]               0\n",
      "          Linear-153             [-1, 196, 384]         147,840\n",
      "          Linear-154            [-1, 196, 1536]         591,360\n",
      "            ReLU-155            [-1, 196, 1536]               0\n",
      "         Dropout-156            [-1, 196, 1536]               0\n",
      "          Linear-157             [-1, 196, 384]         590,208\n",
      "         Dropout-158             [-1, 196, 384]               0\n",
      "             Mlp-159             [-1, 196, 384]               0\n",
      "          Linear-160             [-1, 196, 384]         147,456\n",
      "        Identity-161             [-1, 196, 384]               0\n",
      "        Identity-162             [-1, 196, 384]               0\n",
      "layers_scale_mlp_blocks-163             [-1, 196, 384]               0\n",
      "          Linear-164             [-1, 196, 384]         147,840\n",
      "          Linear-165             [-1, 384, 196]          38,612\n",
      "          Linear-166             [-1, 196, 384]         147,456\n",
      "        Identity-167             [-1, 196, 384]               0\n",
      "        Identity-168             [-1, 196, 384]               0\n",
      "          Linear-169             [-1, 196, 384]         147,840\n",
      "          Linear-170            [-1, 196, 1536]         591,360\n",
      "            ReLU-171            [-1, 196, 1536]               0\n",
      "         Dropout-172            [-1, 196, 1536]               0\n",
      "          Linear-173             [-1, 196, 384]         590,208\n",
      "         Dropout-174             [-1, 196, 384]               0\n",
      "             Mlp-175             [-1, 196, 384]               0\n",
      "          Linear-176             [-1, 196, 384]         147,456\n",
      "        Identity-177             [-1, 196, 384]               0\n",
      "        Identity-178             [-1, 196, 384]               0\n",
      "layers_scale_mlp_blocks-179             [-1, 196, 384]               0\n",
      "          Linear-180             [-1, 196, 384]         147,840\n",
      "          Linear-181             [-1, 384, 196]          38,612\n",
      "          Linear-182             [-1, 196, 384]         147,456\n",
      "        Identity-183             [-1, 196, 384]               0\n",
      "        Identity-184             [-1, 196, 384]               0\n",
      "          Linear-185             [-1, 196, 384]         147,840\n",
      "          Linear-186            [-1, 196, 1536]         591,360\n",
      "            ReLU-187            [-1, 196, 1536]               0\n",
      "         Dropout-188            [-1, 196, 1536]               0\n",
      "          Linear-189             [-1, 196, 384]         590,208\n",
      "         Dropout-190             [-1, 196, 384]               0\n",
      "             Mlp-191             [-1, 196, 384]               0\n",
      "          Linear-192             [-1, 196, 384]         147,456\n",
      "        Identity-193             [-1, 196, 384]               0\n",
      "        Identity-194             [-1, 196, 384]               0\n",
      "layers_scale_mlp_blocks-195             [-1, 196, 384]               0\n",
      "          Linear-196             [-1, 196, 384]         147,840\n",
      "          Linear-197             [-1, 384, 196]          38,612\n",
      "          Linear-198             [-1, 196, 384]         147,456\n",
      "        Identity-199             [-1, 196, 384]               0\n",
      "        Identity-200             [-1, 196, 384]               0\n",
      "          Linear-201             [-1, 196, 384]         147,840\n",
      "          Linear-202            [-1, 196, 1536]         591,360\n",
      "            ReLU-203            [-1, 196, 1536]               0\n",
      "         Dropout-204            [-1, 196, 1536]               0\n",
      "          Linear-205             [-1, 196, 384]         590,208\n",
      "         Dropout-206             [-1, 196, 384]               0\n",
      "             Mlp-207             [-1, 196, 384]               0\n",
      "          Linear-208             [-1, 196, 384]         147,456\n",
      "        Identity-209             [-1, 196, 384]               0\n",
      "        Identity-210             [-1, 196, 384]               0\n",
      "layers_scale_mlp_blocks-211             [-1, 196, 384]               0\n",
      "          Linear-212             [-1, 196, 384]         147,840\n",
      "          Linear-213             [-1, 384, 196]          38,612\n",
      "          Linear-214             [-1, 196, 384]         147,456\n",
      "        Identity-215             [-1, 196, 384]               0\n",
      "        Identity-216             [-1, 196, 384]               0\n",
      "          Linear-217             [-1, 196, 384]         147,840\n",
      "          Linear-218            [-1, 196, 1536]         591,360\n",
      "            ReLU-219            [-1, 196, 1536]               0\n",
      "         Dropout-220            [-1, 196, 1536]               0\n",
      "          Linear-221             [-1, 196, 384]         590,208\n",
      "         Dropout-222             [-1, 196, 384]               0\n",
      "             Mlp-223             [-1, 196, 384]               0\n",
      "          Linear-224             [-1, 196, 384]         147,456\n",
      "        Identity-225             [-1, 196, 384]               0\n",
      "        Identity-226             [-1, 196, 384]               0\n",
      "layers_scale_mlp_blocks-227             [-1, 196, 384]               0\n",
      "          Linear-228             [-1, 196, 384]         147,840\n",
      "          Linear-229             [-1, 384, 196]          38,612\n",
      "          Linear-230             [-1, 196, 384]         147,456\n",
      "        Identity-231             [-1, 196, 384]               0\n",
      "        Identity-232             [-1, 196, 384]               0\n",
      "          Linear-233             [-1, 196, 384]         147,840\n",
      "          Linear-234            [-1, 196, 1536]         591,360\n",
      "            ReLU-235            [-1, 196, 1536]               0\n",
      "         Dropout-236            [-1, 196, 1536]               0\n",
      "          Linear-237             [-1, 196, 384]         590,208\n",
      "         Dropout-238             [-1, 196, 384]               0\n",
      "             Mlp-239             [-1, 196, 384]               0\n",
      "          Linear-240             [-1, 196, 384]         147,456\n",
      "        Identity-241             [-1, 196, 384]               0\n",
      "        Identity-242             [-1, 196, 384]               0\n",
      "layers_scale_mlp_blocks-243             [-1, 196, 384]               0\n",
      "          Linear-244             [-1, 196, 384]         147,840\n",
      "          Linear-245             [-1, 384, 196]          38,612\n",
      "          Linear-246             [-1, 196, 384]         147,456\n",
      "        Identity-247             [-1, 196, 384]               0\n",
      "        Identity-248             [-1, 196, 384]               0\n",
      "          Linear-249             [-1, 196, 384]         147,840\n",
      "          Linear-250            [-1, 196, 1536]         591,360\n",
      "            ReLU-251            [-1, 196, 1536]               0\n",
      "         Dropout-252            [-1, 196, 1536]               0\n",
      "          Linear-253             [-1, 196, 384]         590,208\n",
      "         Dropout-254             [-1, 196, 384]               0\n",
      "             Mlp-255             [-1, 196, 384]               0\n",
      "          Linear-256             [-1, 196, 384]         147,456\n",
      "        Identity-257             [-1, 196, 384]               0\n",
      "        Identity-258             [-1, 196, 384]               0\n",
      "layers_scale_mlp_blocks-259             [-1, 196, 384]               0\n",
      "          Linear-260             [-1, 196, 384]         147,840\n",
      "          Linear-261             [-1, 384, 196]          38,612\n",
      "          Linear-262             [-1, 196, 384]         147,456\n",
      "        Identity-263             [-1, 196, 384]               0\n",
      "        Identity-264             [-1, 196, 384]               0\n",
      "          Linear-265             [-1, 196, 384]         147,840\n",
      "          Linear-266            [-1, 196, 1536]         591,360\n",
      "            ReLU-267            [-1, 196, 1536]               0\n",
      "         Dropout-268            [-1, 196, 1536]               0\n",
      "          Linear-269             [-1, 196, 384]         590,208\n",
      "         Dropout-270             [-1, 196, 384]               0\n",
      "             Mlp-271             [-1, 196, 384]               0\n",
      "          Linear-272             [-1, 196, 384]         147,456\n",
      "        Identity-273             [-1, 196, 384]               0\n",
      "        Identity-274             [-1, 196, 384]               0\n",
      "layers_scale_mlp_blocks-275             [-1, 196, 384]               0\n",
      "          Linear-276             [-1, 196, 384]         147,840\n",
      "          Linear-277             [-1, 384, 196]          38,612\n",
      "          Linear-278             [-1, 196, 384]         147,456\n",
      "        Identity-279             [-1, 196, 384]               0\n",
      "        Identity-280             [-1, 196, 384]               0\n",
      "          Linear-281             [-1, 196, 384]         147,840\n",
      "          Linear-282            [-1, 196, 1536]         591,360\n",
      "            ReLU-283            [-1, 196, 1536]               0\n",
      "         Dropout-284            [-1, 196, 1536]               0\n",
      "          Linear-285             [-1, 196, 384]         590,208\n",
      "         Dropout-286             [-1, 196, 384]               0\n",
      "             Mlp-287             [-1, 196, 384]               0\n",
      "          Linear-288             [-1, 196, 384]         147,456\n",
      "        Identity-289             [-1, 196, 384]               0\n",
      "        Identity-290             [-1, 196, 384]               0\n",
      "layers_scale_mlp_blocks-291             [-1, 196, 384]               0\n",
      "          Linear-292             [-1, 196, 384]         147,840\n",
      "          Linear-293             [-1, 384, 196]          38,612\n",
      "          Linear-294             [-1, 196, 384]         147,456\n",
      "        Identity-295             [-1, 196, 384]               0\n",
      "        Identity-296             [-1, 196, 384]               0\n",
      "          Linear-297             [-1, 196, 384]         147,840\n",
      "          Linear-298            [-1, 196, 1536]         591,360\n",
      "            ReLU-299            [-1, 196, 1536]               0\n",
      "         Dropout-300            [-1, 196, 1536]               0\n",
      "          Linear-301             [-1, 196, 384]         590,208\n",
      "         Dropout-302             [-1, 196, 384]               0\n",
      "             Mlp-303             [-1, 196, 384]               0\n",
      "          Linear-304             [-1, 196, 384]         147,456\n",
      "        Identity-305             [-1, 196, 384]               0\n",
      "        Identity-306             [-1, 196, 384]               0\n",
      "layers_scale_mlp_blocks-307             [-1, 196, 384]               0\n",
      "          Linear-308             [-1, 196, 384]         147,840\n",
      "          Linear-309             [-1, 384, 196]          38,612\n",
      "          Linear-310             [-1, 196, 384]         147,456\n",
      "        Identity-311             [-1, 196, 384]               0\n",
      "        Identity-312             [-1, 196, 384]               0\n",
      "          Linear-313             [-1, 196, 384]         147,840\n",
      "          Linear-314            [-1, 196, 1536]         591,360\n",
      "            ReLU-315            [-1, 196, 1536]               0\n",
      "         Dropout-316            [-1, 196, 1536]               0\n",
      "          Linear-317             [-1, 196, 384]         590,208\n",
      "         Dropout-318             [-1, 196, 384]               0\n",
      "             Mlp-319             [-1, 196, 384]               0\n",
      "          Linear-320             [-1, 196, 384]         147,456\n",
      "        Identity-321             [-1, 196, 384]               0\n",
      "        Identity-322             [-1, 196, 384]               0\n",
      "layers_scale_mlp_blocks-323             [-1, 196, 384]               0\n",
      "          Linear-324             [-1, 196, 384]         147,840\n",
      "          Linear-325             [-1, 384, 196]          38,612\n",
      "          Linear-326             [-1, 196, 384]         147,456\n",
      "        Identity-327             [-1, 196, 384]               0\n",
      "        Identity-328             [-1, 196, 384]               0\n",
      "          Linear-329             [-1, 196, 384]         147,840\n",
      "          Linear-330            [-1, 196, 1536]         591,360\n",
      "            ReLU-331            [-1, 196, 1536]               0\n",
      "         Dropout-332            [-1, 196, 1536]               0\n",
      "          Linear-333             [-1, 196, 384]         590,208\n",
      "         Dropout-334             [-1, 196, 384]               0\n",
      "             Mlp-335             [-1, 196, 384]               0\n",
      "          Linear-336             [-1, 196, 384]         147,456\n",
      "        Identity-337             [-1, 196, 384]               0\n",
      "        Identity-338             [-1, 196, 384]               0\n",
      "layers_scale_mlp_blocks-339             [-1, 196, 384]               0\n",
      "          Linear-340             [-1, 196, 384]         147,840\n",
      "          Linear-341             [-1, 384, 196]          38,612\n",
      "          Linear-342             [-1, 196, 384]         147,456\n",
      "        Identity-343             [-1, 196, 384]               0\n",
      "        Identity-344             [-1, 196, 384]               0\n",
      "          Linear-345             [-1, 196, 384]         147,840\n",
      "          Linear-346            [-1, 196, 1536]         591,360\n",
      "            ReLU-347            [-1, 196, 1536]               0\n",
      "         Dropout-348            [-1, 196, 1536]               0\n",
      "          Linear-349             [-1, 196, 384]         590,208\n",
      "         Dropout-350             [-1, 196, 384]               0\n",
      "             Mlp-351             [-1, 196, 384]               0\n",
      "          Linear-352             [-1, 196, 384]         147,456\n",
      "        Identity-353             [-1, 196, 384]               0\n",
      "        Identity-354             [-1, 196, 384]               0\n",
      "layers_scale_mlp_blocks-355             [-1, 196, 384]               0\n",
      "          Linear-356             [-1, 196, 384]         147,840\n",
      "          Linear-357             [-1, 384, 196]          38,612\n",
      "          Linear-358             [-1, 196, 384]         147,456\n",
      "        Identity-359             [-1, 196, 384]               0\n",
      "        Identity-360             [-1, 196, 384]               0\n",
      "          Linear-361             [-1, 196, 384]         147,840\n",
      "          Linear-362            [-1, 196, 1536]         591,360\n",
      "            ReLU-363            [-1, 196, 1536]               0\n",
      "         Dropout-364            [-1, 196, 1536]               0\n",
      "          Linear-365             [-1, 196, 384]         590,208\n",
      "         Dropout-366             [-1, 196, 384]               0\n",
      "             Mlp-367             [-1, 196, 384]               0\n",
      "          Linear-368             [-1, 196, 384]         147,456\n",
      "        Identity-369             [-1, 196, 384]               0\n",
      "        Identity-370             [-1, 196, 384]               0\n",
      "layers_scale_mlp_blocks-371             [-1, 196, 384]               0\n",
      "          Linear-372             [-1, 196, 384]         147,840\n",
      "          Linear-373             [-1, 384, 196]          38,612\n",
      "          Linear-374             [-1, 196, 384]         147,456\n",
      "        Identity-375             [-1, 196, 384]               0\n",
      "        Identity-376             [-1, 196, 384]               0\n",
      "          Linear-377             [-1, 196, 384]         147,840\n",
      "          Linear-378            [-1, 196, 1536]         591,360\n",
      "            ReLU-379            [-1, 196, 1536]               0\n",
      "         Dropout-380            [-1, 196, 1536]               0\n",
      "          Linear-381             [-1, 196, 384]         590,208\n",
      "         Dropout-382             [-1, 196, 384]               0\n",
      "             Mlp-383             [-1, 196, 384]               0\n",
      "          Linear-384             [-1, 196, 384]         147,456\n",
      "        Identity-385             [-1, 196, 384]               0\n",
      "        Identity-386             [-1, 196, 384]               0\n",
      "layers_scale_mlp_blocks-387             [-1, 196, 384]               0\n",
      "          Linear-388             [-1, 196, 384]         147,840\n",
      "          Linear-389                 [-1, 1000]         385,000\n",
      "================================================================\n",
      "Total params: 44,286,664\n",
      "Trainable params: 44,286,664\n",
      "Non-trainable params: 0\n",
      "----------------------------------------------------------------\n",
      "Input size (MB): 0.57\n",
      "Forward/backward pass size (MB): 346.84\n",
      "Params size (MB): 168.94\n",
      "Estimated Total Size (MB): 516.35\n",
      "----------------------------------------------------------------\n"
     ]
    }
   ],
   "source": [
    "from torchsummary import summary\n",
    "summary(org_model, (3, 224, 224), device='cpu')"
   ]
  },
  {
   "cell_type": "code",
   "execution_count": 62,
   "metadata": {},
   "outputs": [
    {
     "name": "stdout",
     "output_type": "stream",
     "text": [
      "True\n"
     ]
    }
   ],
   "source": [
    "org_model = resmlp_24(pretrained=False).eval()\n",
    "org_model.load_state_dict(torch.load(\"ResMLP_S24_ReLU_fp32_80.602.pth\"))\n",
    "\n",
    "model = resmlp_24(pretrained=False).eval()\n",
    "model.load_state_dict(torch.load(\"ResMLP_S24_ReLU_fp32_80.602.pth\"))\n",
    "print(same_output(model, org_model, eps=1e-5))"
   ]
  },
  {
   "cell_type": "code",
   "execution_count": 63,
   "metadata": {},
   "outputs": [
    {
     "name": "stdout",
     "output_type": "stream",
     "text": [
      "True\n"
     ]
    }
   ],
   "source": [
    "a = 0.1\n",
    "\n",
    "# model.blocks[1].mlp.fc1\n",
    "model.blocks[1].mlp.fc1.weight.data.div_(a)\n",
    "model.blocks[1].mlp.fc1.bias.data.div_(a)\n",
    "\n",
    "model.blocks[1].mlp.fc2.weight.data.mul_(a)\n",
    "# model.blocks[1].mlp.fc2.bias.data.mul_(a)\n",
    "\n",
    "print(same_output(model, org_model, eps=1e-5))\n"
   ]
  },
  {
   "cell_type": "code",
   "execution_count": 56,
   "metadata": {},
   "outputs": [],
   "source": [
    "w1 = model.blocks[1].mlp.fc1.weight.data\n",
    "b1 = model.blocks[1].mlp.fc1.bias.data\n",
    "\n",
    "w2 = model.blocks[1].mlp.fc2.weight.data\n",
    "b2 = model.blocks[1].mlp.fc2.bias.data"
   ]
  },
  {
   "cell_type": "code",
   "execution_count": 60,
   "metadata": {},
   "outputs": [
    {
     "name": "stdout",
     "output_type": "stream",
     "text": [
      "tensor([[-20.7404,  -2.5549,  -7.4371,  ..., -15.9541,  -3.1765,  -3.6960],\n",
      "        [-18.0102,  -5.2776,  -1.1875,  ..., -13.5424,  -3.7982,  -0.7812],\n",
      "        [-16.0846,  -9.3105,  -4.4374,  ..., -13.6630,  -3.8831,  -2.9441],\n",
      "        ...,\n",
      "        [-17.2234,  -5.9473,  -0.4635,  ..., -12.4889,  -3.7520,  -3.7264],\n",
      "        [-14.5020,  -8.5389, -11.5101,  ..., -13.0452,  -8.7345,   1.0665],\n",
      "        [-19.9096,  -2.7747,  -5.8956,  ..., -17.7346,  -7.4741,  -6.7266]])\n",
      "tensor([[-23.6173,  -3.7837, -10.2398,  ..., -18.2323,  -5.5340,  -4.6883],\n",
      "        [-20.8871,  -6.5064,  -3.9902,  ..., -15.8206,  -6.1558,  -1.7735],\n",
      "        [-18.9615, -10.5392,  -7.2401,  ..., -15.9411,  -6.2406,  -3.9364],\n",
      "        ...,\n",
      "        [-20.1004,  -7.1760,  -3.2662,  ..., -14.7671,  -6.1095,  -4.7187],\n",
      "        [-17.3789,  -9.7677, -14.3127,  ..., -15.3234, -11.0920,   0.0742],\n",
      "        [-22.7866,  -4.0035,  -8.6983,  ..., -20.0128,  -9.8317,  -7.7189]])\n"
     ]
    }
   ],
   "source": [
    "import numpy as np\n",
    "\n",
    "a = 1.2\n",
    "x = torch.Tensor(np.random.rand(1536, 384)).unsqueeze(0)\n",
    "\n",
    "\n",
    "x1 = F.linear(x*a, w1, b1)\n",
    "print(x1[0][:10])\n",
    "\n",
    "x1 = F.linear(x, w1, b1)*a\n",
    "print(x1[0][:10])"
   ]
  },
  {
   "cell_type": "code",
   "execution_count": 58,
   "metadata": {},
   "outputs": [
    {
     "name": "stdout",
     "output_type": "stream",
     "text": [
      "tensor([[ 1.4595, -0.2216, -2.6724,  ...,  2.6562, -0.1907,  3.1663],\n",
      "        [-0.0743, -0.0985, -2.1127,  ...,  2.0094,  0.0330,  4.0484],\n",
      "        [ 1.4549,  1.5411, -1.9220,  ...,  2.1522, -0.9108,  2.8985],\n",
      "        ...,\n",
      "        [ 0.8074,  0.1950, -2.2156,  ...,  1.2923, -0.3952,  2.4369],\n",
      "        [ 2.4564,  0.3205, -2.5354,  ...,  1.0211, -0.4349,  2.8428],\n",
      "        [ 1.9312,  0.6765, -3.9492,  ...,  2.0036,  0.7957,  3.1072]])\n",
      "tensor([[ 1.4586, -0.2188, -2.6746,  ...,  2.6533, -0.1922,  3.1631],\n",
      "        [-0.0752, -0.0957, -2.1148,  ...,  2.0065,  0.0315,  4.0452],\n",
      "        [ 1.4540,  1.5439, -1.9241,  ...,  2.1492, -0.9123,  2.8953],\n",
      "        ...,\n",
      "        [ 0.8065,  0.1978, -2.2178,  ...,  1.2893, -0.3967,  2.4337],\n",
      "        [ 2.4556,  0.3233, -2.5376,  ...,  1.0181, -0.4364,  2.8395],\n",
      "        [ 1.9304,  0.6794, -3.9514,  ...,  2.0007,  0.7942,  3.1039]])\n"
     ]
    }
   ],
   "source": [
    "import numpy as np\n",
    "\n",
    "a = 1.2\n",
    "x = torch.Tensor(np.random.rand(1536, 384)).unsqueeze(0)\n",
    "\n",
    "\n",
    "x1 = F.linear(x, w1*a, b1*a)\n",
    "x2 = F.linear(x1, w2/a, b2/a)\n",
    "print(x2[0][:10])\n",
    "\n",
    "x1 = F.linear(x, w1, b1)\n",
    "x2 = F.linear(x1, w2, b2)\n",
    "print(x2[0][:10])"
   ]
  }
 ],
 "metadata": {
  "kernelspec": {
   "display_name": "Python 3.8.13 ('pytorch')",
   "language": "python",
   "name": "python3"
  },
  "language_info": {
   "codemirror_mode": {
    "name": "ipython",
    "version": 3
   },
   "file_extension": ".py",
   "mimetype": "text/x-python",
   "name": "python",
   "nbconvert_exporter": "python",
   "pygments_lexer": "ipython3",
   "version": "3.8.13"
  },
  "orig_nbformat": 4,
  "vscode": {
   "interpreter": {
    "hash": "7b7296a56d372591cb5ced48c9a892695554f23e2f1788c0250eea3690b4c0d6"
   }
  }
 },
 "nbformat": 4,
 "nbformat_minor": 2
}
