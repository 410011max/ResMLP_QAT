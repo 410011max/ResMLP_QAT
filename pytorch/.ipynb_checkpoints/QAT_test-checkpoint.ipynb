{
 "cells": [
  {
   "cell_type": "code",
   "execution_count": null,
   "id": "9cc16fb2-59ed-4c04-bc12-ab47e6fd7f52",
   "metadata": {},
   "outputs": [],
   "source": [
    "import torch\n",
    "import torch.nn as nn\n",
    "from torchsummary import summary\n",
    "from timm.models import create_model\n",
    "import resmlp\n",
    "from utils import AverageMeter\n",
    "\n",
    "from tqdm import tqdm\n",
    "import os\n",
    "\n",
    "device = torch.device(\"cuda\" if torch.cuda.is_available() else \"cpu\")\n",
    "device"
   ]
  },
  {
   "cell_type": "code",
   "execution_count": null,
   "id": "dc373eae-addc-4f3f-959d-94effb5f46f6",
   "metadata": {},
   "outputs": [],
   "source": [
    "#resmlp = create_model('resmlp_24', num_classes=NUM_CLASSES).cuda()\n",
    "#summary(resmlp, (3, 224, 224))"
   ]
  },
  {
   "cell_type": "code",
   "execution_count": null,
   "id": "fbc3a245-4b6d-46c9-adb2-10c536e0aeed",
   "metadata": {},
   "outputs": [],
   "source": [
    "def evaluate_model(model, test_loader, device, criterion=None):\n",
    "    batch_time = AverageMeter()\n",
    "    losses = AverageMeter()\n",
    "    top1 = AverageMeter()\n",
    "    top5 = AverageMeter()\n",
    "    \n",
    "    model.eval()\n",
    "    model.to(device)\n",
    "    \n",
    "    for inputs, labels in tqdm(test_loader):\n",
    "        inputs = inputs.to(device)\n",
    "        labels = labels.to(device)\n",
    "        \n",
    "        outputs = model(inputs)\n",
    "        _, preds = torch.max(outputs, 1)\n",
    "        \n",
    "        print(outputs.shape, labels.shape)\n",
    "        if criterion is not None:\n",
    "            loss = criterion(outputs, labels).item()\n",
    "        else:\n",
    "            loss = 0\n",
    "        \n",
    "        prec1, prec5 = accuracy(outputs.data, target, topk=(1, 5))\n",
    "        losses.update(loss.item(), inputs.size(0))\n",
    "        top1.update(prec1[0], inputs.size(0))\n",
    "        top5.update(prec5[0], inputs.size(0))\n",
    "    \n",
    "    return losses.avg, top1.avg, top5.avg"
   ]
  },
  {
   "cell_type": "code",
   "execution_count": null,
   "id": "94d83ed8-43d0-458f-9a5c-d0833e60d66d",
   "metadata": {},
   "outputs": [],
   "source": [
    "from datasets import build_dataset\n",
    "from timm.data import Mixup\n",
    "import numpy as np\n",
    "import torch.backends.cudnn as cudnn\n",
    "from timm.loss import SoftTargetCrossEntropy\n",
    "import torch.optim as optim"
   ]
  },
  {
   "cell_type": "markdown",
   "id": "fed33903-ca0b-46b1-a3f9-05a63e6f9c23",
   "metadata": {},
   "source": [
    "## Set Parameters"
   ]
  },
  {
   "cell_type": "code",
   "execution_count": null,
   "id": "385bb9a0-43c6-434f-8ce5-b97da9b1fe8d",
   "metadata": {},
   "outputs": [],
   "source": [
    "INPUT_SIZE = 224\n",
    "\n",
    "BATCH_SIZE = 32\n",
    "EPOCHS = 100\n",
    "LR = 0.003\n",
    "\n",
    "DICT_PATH = 'ResMLP_S24_ReLU_99dense.pth' \n",
    "DATA_DIR = 'E:\\datasets'\n",
    "WORKERS = 8"
   ]
  },
  {
   "cell_type": "markdown",
   "id": "f6336c16-741a-417d-b9c0-40fcb9309ff3",
   "metadata": {},
   "source": [
    "## Train Process"
   ]
  },
  {
   "cell_type": "code",
   "execution_count": null,
   "id": "2ea98493-73af-4a5a-9ef0-2e6cf73277f9",
   "metadata": {},
   "outputs": [],
   "source": [
    "# Data Parallel Training\n",
    "\n",
    "# device = CUDA\n",
    "device = torch.device(\"cuda\" if torch.cuda.is_available() else \"cpu\")\n",
    "\n",
    "# set seed\n",
    "seed = 336 # args.seed + utils.get_rank()\n",
    "torch.manual_seed(seed)\n",
    "np.random.seed(seed)\n",
    "\n",
    "# check for best cudnn ops before training starts.\n",
    "cudnn.benchmark = True\n",
    "\n",
    "# build train/val dataset\n",
    "dataset_train, NUM_CLASSES = build_dataset(is_train=True, name='imagenet2012', root=DATA_DIR, input_size=INPUT_SIZE)\n",
    "dataset_val, _ = build_dataset(is_train=False, name='imagenet2012', root=data_dir, input_size=INPUT_SIZE)\n",
    "\n",
    "# create sampler (if dataset from tfds, can't apply sampler) (distributed ver. to be done)\n",
    "# sampler_train = torch.utils.data.RandomSampler(dataset_train)\n",
    "# sampler_val = torch.utils.data.SequentialSampler(dataset_val)\n",
    "\n",
    "# build up dataloader\n",
    "data_loader_train = torch.utils.data.DataLoader(\n",
    "    dataset_train, #sampler=sampler_train,\n",
    "    batch_size=BATCH_SIZE,\n",
    "    num_workers=WORKERS,\n",
    "    pin_memory=True,\n",
    "    drop_last=True,\n",
    ")\n",
    "\n",
    "data_loader_val = torch.utils.data.DataLoader(\n",
    "    dataset_val, #sampler=sampler_val,\n",
    "    batch_size=int(1.5 * BATCH_SIZE),\n",
    "    num_workers=WORKERS,\n",
    "    pin_memory=True,\n",
    "    drop_last=False\n",
    ")\n",
    "\n",
    "# additional data augmentation (mixup)\n",
    "mixup_fn = Mixup(\n",
    "    mixup_alpha=0.8, cutmix_alpha=1.0, cutmix_minmax=None,\n",
    "    prob=1.0, switch_prob=0.5, mode='batch',\n",
    "    label_smoothing=0.1, num_classes=NUM_CLASSES)\n",
    "\n",
    "# create model\n",
    "model = create_model('resmlp_24', num_classes=NUM_CLASSES).cuda()\n",
    "model.load_state_dict(torch.load(DICT_PATH), strict=False)\n",
    "\n",
    "# decide layers to train\n",
    "\n",
    "# set optimizer, lr_scheduler, criterion\n",
    "criterion = SoftTargetCrossEntropy() # for mixup\n",
    "optimizer = optim.SGD(model.parameters(),\n",
    "                          lr=LR,\n",
    "                          momentum=0.9,\n",
    "                          weight_decay=1e-4)\n",
    "scheduler = torch.optim.lr_scheduler.MultiStepLR(optimizer,\n",
    "                                                     milestones=[100, 150],\n",
    "                                                     gamma=0.1,\n",
    "                                                     last_epoch=-1)\n",
    "    \n",
    "# Evaluation\n",
    "model.eval()\n",
    "eval_loss, top1_acc, top5_acc = evaluate_model(model=model,\n",
    "                                              test_loader=data_loader_val,\n",
    "                                              device=device,\n",
    "                                              criterion=criterion)\n",
    "print(\"Epoch: {:02d} Eval Loss: {:.3f} Top1: {:.3f} Top5: {:.3f}\".format(\n",
    "    -1, eval_loss, top1_acc, top5_acc))\n",
    "\n",
    "# start training"
   ]
  },
  {
   "cell_type": "markdown",
   "id": "1cba8fdb-1cd7-4953-b936-34dbdb52da26",
   "metadata": {},
   "source": [
    "## Quantize"
   ]
  },
  {
   "cell_type": "code",
   "execution_count": null,
   "id": "fb54c48a-cc2b-4e15-b04d-f934385dc8e7",
   "metadata": {},
   "outputs": [],
   "source": [
    "resmlp.train()\n",
    "resmlp.qconfig = torch.quantization.get_default_qat_qconfig('qnnpack')\n",
    "#model_fp32_fused = torch.quantization.fuse_modules(resmlp, [['blocks.mlp', 'relu']])\n",
    "model_fp32_prepared = torch.quantization.prepare_qat(resmlp.cuda(), inplace=True)\n",
    "#training_loop(model_fp32_prepared)\n",
    "model_fp32_prepared.eval()\n",
    "model_fp32_prepared.cpu()\n",
    "\n",
    "#input_fp32 = torch.randn((1, 3, 224, 224), dtype=torch.float32, device=\"cuda\")\n",
    "#model_fp32_prepared(input_fp32)\n",
    "\n",
    "input_fp32 = torch.randn((1, 3, 224, 224), dtype=torch.float32, device=\"cpu\")\n",
    "model_int8 = torch.quantization.convert(model_fp32_prepared)\n",
    "model_int8(input_fp32)"
   ]
  },
  {
   "cell_type": "code",
   "execution_count": 13,
   "id": "44481b44-712b-46e6-97ec-f0e9ebf9388c",
   "metadata": {},
   "outputs": [],
   "source": [
    "#for name, value in resmlp.named_parameters():\n",
    "#    print(name)"
   ]
  }
 ],
 "metadata": {
  "kernelspec": {
   "display_name": "Python 3 (ipykernel)",
   "language": "python",
   "name": "python3"
  },
  "language_info": {
   "codemirror_mode": {
    "name": "ipython",
    "version": 3
   },
   "file_extension": ".py",
   "mimetype": "text/x-python",
   "name": "python",
   "nbconvert_exporter": "python",
   "pygments_lexer": "ipython3",
   "version": "3.8.13"
  }
 },
 "nbformat": 4,
 "nbformat_minor": 5
}
