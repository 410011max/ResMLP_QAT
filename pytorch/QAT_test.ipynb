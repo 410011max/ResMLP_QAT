{
 "cells": [
  {
   "cell_type": "code",
   "execution_count": 1,
   "id": "9cc16fb2-59ed-4c04-bc12-ab47e6fd7f52",
   "metadata": {},
   "outputs": [
    {
     "data": {
      "text/plain": [
       "device(type='cuda')"
      ]
     },
     "execution_count": 1,
     "metadata": {},
     "output_type": "execute_result"
    }
   ],
   "source": [
    "import torch\n",
    "import torch.nn as nn\n",
    "from torchsummary import summary\n",
    "from timm.models import create_model\n",
    "import resmlp\n",
    "from utils import AverageMeter\n",
    "\n",
    "from tqdm import tqdm\n",
    "import os\n",
    "\n",
    "device = torch.device(\"cuda\" if torch.cuda.is_available() else \"cpu\")\n",
    "device"
   ]
  },
  {
   "cell_type": "code",
   "execution_count": 2,
   "id": "dc373eae-addc-4f3f-959d-94effb5f46f6",
   "metadata": {},
   "outputs": [],
   "source": [
    "#resmlp = create_model('resmlp_24', num_classes=NUM_CLASSES).cuda()\n",
    "#summary(resmlp, (3, 224, 224))"
   ]
  },
  {
   "cell_type": "code",
   "execution_count": 3,
   "id": "fbc3a245-4b6d-46c9-adb2-10c536e0aeed",
   "metadata": {},
   "outputs": [],
   "source": [
    "def evaluate_model(model, test_loader, device, criterion=None):\n",
    "    batch_time = AverageMeter()\n",
    "    losses = AverageMeter()\n",
    "    top1 = AverageMeter()\n",
    "    top5 = AverageMeter()\n",
    "    \n",
    "    model.eval()\n",
    "    model.to(device)\n",
    "    \n",
    "    for inputs, labels in tqdm(test_loader):\n",
    "        inputs = inputs.to(device)\n",
    "        labels = labels.to(device)\n",
    "        \n",
    "        outputs = model(inputs)\n",
    "        _, preds = torch.max(outputs, 1)\n",
    "        \n",
    "        print(outputs.shape, labels.shape)\n",
    "        if criterion is not None:\n",
    "            loss = criterion(outputs, labels).item()\n",
    "        else:\n",
    "            loss = 0\n",
    "        \n",
    "        prec1, prec5 = accuracy(outputs.data, target, topk=(1, 5))\n",
    "        losses.update(loss.item(), inputs.size(0))\n",
    "        top1.update(prec1[0], inputs.size(0))\n",
    "        top5.update(prec5[0], inputs.size(0))\n",
    "    \n",
    "    return losses.avg, top1.avg, top5.avg"
   ]
  },
  {
   "cell_type": "code",
   "execution_count": 4,
   "id": "94d83ed8-43d0-458f-9a5c-d0833e60d66d",
   "metadata": {},
   "outputs": [],
   "source": [
    "from datasets import build_dataset\n",
    "from timm.data import Mixup\n",
    "import numpy as np\n",
    "import torch.backends.cudnn as cudnn\n",
    "from timm.loss import SoftTargetCrossEntropy\n",
    "import torch.optim as optim"
   ]
  },
  {
   "cell_type": "markdown",
   "id": "fed33903-ca0b-46b1-a3f9-05a63e6f9c23",
   "metadata": {},
   "source": [
    "## Set Parameters"
   ]
  },
  {
   "cell_type": "code",
   "execution_count": 5,
   "id": "385bb9a0-43c6-434f-8ce5-b97da9b1fe8d",
   "metadata": {},
   "outputs": [],
   "source": [
    "INPUT_SIZE = 224\n",
    "\n",
    "BATCH_SIZE = 32\n",
    "EPOCHS = 100\n",
    "LR = 0.003\n",
    "\n",
    "DICT_PATH = 'ResMLP_S24_ReLU_99dense.pth' \n",
    "DATA_DIR = 'E:\\datasets'\n",
    "WORKERS = 8"
   ]
  },
  {
   "cell_type": "markdown",
   "id": "f6336c16-741a-417d-b9c0-40fcb9309ff3",
   "metadata": {},
   "source": [
    "## Train Process"
   ]
  },
  {
   "cell_type": "code",
   "execution_count": 7,
   "id": "2ea98493-73af-4a5a-9ef0-2e6cf73277f9",
   "metadata": {},
   "outputs": [
    {
     "name": "stderr",
     "output_type": "stream",
     "text": [
      "C:\\ProgramData\\Anaconda3\\lib\\site-packages\\torchvision\\transforms\\transforms.py:332: UserWarning: Argument 'interpolation' of type int is deprecated since 0.13 and will be removed in 0.15. Please use InterpolationMode enum.\n",
      "  warnings.warn(\n",
      "  0%|                                                                                         | 0/1042 [00:00<?, ?it/s]"
     ]
    },
    {
     "name": "stdout",
     "output_type": "stream",
     "text": [
      "torch.Size([48, 1000]) torch.Size([48])\n"
     ]
    },
    {
     "name": "stderr",
     "output_type": "stream",
     "text": [
      "  0%|                                                                                         | 0/1042 [00:15<?, ?it/s]\n"
     ]
    },
    {
     "ename": "RuntimeError",
     "evalue": "The size of tensor a (48) must match the size of tensor b (1000) at non-singleton dimension 1",
     "output_type": "error",
     "traceback": [
      "\u001b[1;31m---------------------------------------------------------------------------\u001b[0m",
      "\u001b[1;31mRuntimeError\u001b[0m                              Traceback (most recent call last)",
      "Input \u001b[1;32mIn [7]\u001b[0m, in \u001b[0;36m<cell line: 64>\u001b[1;34m()\u001b[0m\n\u001b[0;32m     62\u001b[0m \u001b[38;5;66;03m# Evaluation\u001b[39;00m\n\u001b[0;32m     63\u001b[0m model\u001b[38;5;241m.\u001b[39meval()\n\u001b[1;32m---> 64\u001b[0m eval_loss, top1_acc, top5_acc \u001b[38;5;241m=\u001b[39m \u001b[43mevaluate_model\u001b[49m\u001b[43m(\u001b[49m\u001b[43mmodel\u001b[49m\u001b[38;5;241;43m=\u001b[39;49m\u001b[43mmodel\u001b[49m\u001b[43m,\u001b[49m\n\u001b[0;32m     65\u001b[0m \u001b[43m                                              \u001b[49m\u001b[43mtest_loader\u001b[49m\u001b[38;5;241;43m=\u001b[39;49m\u001b[43mdata_loader_val\u001b[49m\u001b[43m,\u001b[49m\n\u001b[0;32m     66\u001b[0m \u001b[43m                                              \u001b[49m\u001b[43mdevice\u001b[49m\u001b[38;5;241;43m=\u001b[39;49m\u001b[43mdevice\u001b[49m\u001b[43m,\u001b[49m\n\u001b[0;32m     67\u001b[0m \u001b[43m                                              \u001b[49m\u001b[43mcriterion\u001b[49m\u001b[38;5;241;43m=\u001b[39;49m\u001b[43mcriterion\u001b[49m\u001b[43m)\u001b[49m\n\u001b[0;32m     68\u001b[0m \u001b[38;5;28mprint\u001b[39m(\u001b[38;5;124m\"\u001b[39m\u001b[38;5;124mEpoch: \u001b[39m\u001b[38;5;132;01m{:02d}\u001b[39;00m\u001b[38;5;124m Eval Loss: \u001b[39m\u001b[38;5;132;01m{:.3f}\u001b[39;00m\u001b[38;5;124m Top1: \u001b[39m\u001b[38;5;132;01m{:.3f}\u001b[39;00m\u001b[38;5;124m Top5: \u001b[39m\u001b[38;5;132;01m{:.3f}\u001b[39;00m\u001b[38;5;124m\"\u001b[39m\u001b[38;5;241m.\u001b[39mformat(\n\u001b[0;32m     69\u001b[0m     \u001b[38;5;241m-\u001b[39m\u001b[38;5;241m1\u001b[39m, eval_loss, top1_acc, top5_acc))\n",
      "Input \u001b[1;32mIn [3]\u001b[0m, in \u001b[0;36mevaluate_model\u001b[1;34m(model, test_loader, device, criterion)\u001b[0m\n\u001b[0;32m     17\u001b[0m \u001b[38;5;28mprint\u001b[39m(outputs\u001b[38;5;241m.\u001b[39mshape, labels\u001b[38;5;241m.\u001b[39mshape)\n\u001b[0;32m     18\u001b[0m \u001b[38;5;28;01mif\u001b[39;00m criterion \u001b[38;5;129;01mis\u001b[39;00m \u001b[38;5;129;01mnot\u001b[39;00m \u001b[38;5;28;01mNone\u001b[39;00m:\n\u001b[1;32m---> 19\u001b[0m     loss \u001b[38;5;241m=\u001b[39m \u001b[43mcriterion\u001b[49m\u001b[43m(\u001b[49m\u001b[43moutputs\u001b[49m\u001b[43m,\u001b[49m\u001b[43m \u001b[49m\u001b[43mlabels\u001b[49m\u001b[43m)\u001b[49m\u001b[38;5;241m.\u001b[39mitem()\n\u001b[0;32m     20\u001b[0m \u001b[38;5;28;01melse\u001b[39;00m:\n\u001b[0;32m     21\u001b[0m     loss \u001b[38;5;241m=\u001b[39m \u001b[38;5;241m0\u001b[39m\n",
      "File \u001b[1;32mC:\\ProgramData\\Anaconda3\\lib\\site-packages\\torch\\nn\\modules\\module.py:1130\u001b[0m, in \u001b[0;36mModule._call_impl\u001b[1;34m(self, *input, **kwargs)\u001b[0m\n\u001b[0;32m   1126\u001b[0m \u001b[38;5;66;03m# If we don't have any hooks, we want to skip the rest of the logic in\u001b[39;00m\n\u001b[0;32m   1127\u001b[0m \u001b[38;5;66;03m# this function, and just call forward.\u001b[39;00m\n\u001b[0;32m   1128\u001b[0m \u001b[38;5;28;01mif\u001b[39;00m \u001b[38;5;129;01mnot\u001b[39;00m (\u001b[38;5;28mself\u001b[39m\u001b[38;5;241m.\u001b[39m_backward_hooks \u001b[38;5;129;01mor\u001b[39;00m \u001b[38;5;28mself\u001b[39m\u001b[38;5;241m.\u001b[39m_forward_hooks \u001b[38;5;129;01mor\u001b[39;00m \u001b[38;5;28mself\u001b[39m\u001b[38;5;241m.\u001b[39m_forward_pre_hooks \u001b[38;5;129;01mor\u001b[39;00m _global_backward_hooks\n\u001b[0;32m   1129\u001b[0m         \u001b[38;5;129;01mor\u001b[39;00m _global_forward_hooks \u001b[38;5;129;01mor\u001b[39;00m _global_forward_pre_hooks):\n\u001b[1;32m-> 1130\u001b[0m     \u001b[38;5;28;01mreturn\u001b[39;00m \u001b[43mforward_call\u001b[49m\u001b[43m(\u001b[49m\u001b[38;5;241;43m*\u001b[39;49m\u001b[38;5;28;43minput\u001b[39;49m\u001b[43m,\u001b[49m\u001b[43m \u001b[49m\u001b[38;5;241;43m*\u001b[39;49m\u001b[38;5;241;43m*\u001b[39;49m\u001b[43mkwargs\u001b[49m\u001b[43m)\u001b[49m\n\u001b[0;32m   1131\u001b[0m \u001b[38;5;66;03m# Do not call functions when jit is used\u001b[39;00m\n\u001b[0;32m   1132\u001b[0m full_backward_hooks, non_full_backward_hooks \u001b[38;5;241m=\u001b[39m [], []\n",
      "File \u001b[1;32mC:\\ProgramData\\Anaconda3\\lib\\site-packages\\timm\\loss\\cross_entropy.py:35\u001b[0m, in \u001b[0;36mSoftTargetCrossEntropy.forward\u001b[1;34m(self, x, target)\u001b[0m\n\u001b[0;32m     34\u001b[0m \u001b[38;5;28;01mdef\u001b[39;00m \u001b[38;5;21mforward\u001b[39m(\u001b[38;5;28mself\u001b[39m, x: torch\u001b[38;5;241m.\u001b[39mTensor, target: torch\u001b[38;5;241m.\u001b[39mTensor) \u001b[38;5;241m-\u001b[39m\u001b[38;5;241m>\u001b[39m torch\u001b[38;5;241m.\u001b[39mTensor:\n\u001b[1;32m---> 35\u001b[0m     loss \u001b[38;5;241m=\u001b[39m torch\u001b[38;5;241m.\u001b[39msum(\u001b[38;5;241;43m-\u001b[39;49m\u001b[43mtarget\u001b[49m\u001b[43m \u001b[49m\u001b[38;5;241;43m*\u001b[39;49m\u001b[43m \u001b[49m\u001b[43mF\u001b[49m\u001b[38;5;241;43m.\u001b[39;49m\u001b[43mlog_softmax\u001b[49m\u001b[43m(\u001b[49m\u001b[43mx\u001b[49m\u001b[43m,\u001b[49m\u001b[43m \u001b[49m\u001b[43mdim\u001b[49m\u001b[38;5;241;43m=\u001b[39;49m\u001b[38;5;241;43m-\u001b[39;49m\u001b[38;5;241;43m1\u001b[39;49m\u001b[43m)\u001b[49m, dim\u001b[38;5;241m=\u001b[39m\u001b[38;5;241m-\u001b[39m\u001b[38;5;241m1\u001b[39m)\n\u001b[0;32m     36\u001b[0m     \u001b[38;5;28;01mreturn\u001b[39;00m loss\u001b[38;5;241m.\u001b[39mmean()\n",
      "\u001b[1;31mRuntimeError\u001b[0m: The size of tensor a (48) must match the size of tensor b (1000) at non-singleton dimension 1"
     ]
    }
   ],
   "source": [
    "# Data Parallel Training\n",
    "\n",
    "# device = CUDA\n",
    "device = torch.device(\"cuda\" if torch.cuda.is_available() else \"cpu\")\n",
    "\n",
    "# set seed\n",
    "seed = 336 # args.seed + utils.get_rank()\n",
    "torch.manual_seed(seed)\n",
    "np.random.seed(seed)\n",
    "\n",
    "# check for best cudnn ops before training starts.\n",
    "cudnn.benchmark = True\n",
    "\n",
    "# build train/val dataset\n",
    "dataset_train, NUM_CLASSES = build_dataset(is_train=True, name='imagenet2012', root=DATA_DIR, input_size=INPUT_SIZE)\n",
    "dataset_val, _ = build_dataset(is_train=False, name='imagenet2012', root=DATA_DIR, input_size=INPUT_SIZE)\n",
    "\n",
    "# create sampler (if dataset from tfds, can't apply sampler) (distributed ver. to be done)\n",
    "# sampler_train = torch.utils.data.RandomSampler(dataset_train)\n",
    "# sampler_val = torch.utils.data.SequentialSampler(dataset_val)\n",
    "\n",
    "# build up dataloader\n",
    "data_loader_train = torch.utils.data.DataLoader(\n",
    "    dataset_train, #sampler=sampler_train,\n",
    "    batch_size=BATCH_SIZE,\n",
    "    num_workers=WORKERS,\n",
    "    pin_memory=True,\n",
    "    drop_last=True,\n",
    ")\n",
    "\n",
    "data_loader_val = torch.utils.data.DataLoader(\n",
    "    dataset_val, #sampler=sampler_val,\n",
    "    batch_size=int(1.5 * BATCH_SIZE),\n",
    "    num_workers=WORKERS,\n",
    "    pin_memory=True,\n",
    "    drop_last=False\n",
    ")\n",
    "\n",
    "# additional data augmentation (mixup)\n",
    "mixup_fn = Mixup(\n",
    "    mixup_alpha=0.8, cutmix_alpha=1.0, cutmix_minmax=None,\n",
    "    prob=1.0, switch_prob=0.5, mode='batch',\n",
    "    label_smoothing=0.1, num_classes=NUM_CLASSES)\n",
    "\n",
    "# create model\n",
    "model = create_model('resmlp_24', num_classes=NUM_CLASSES).cuda()\n",
    "model.load_state_dict(torch.load(DICT_PATH), strict=False)\n",
    "\n",
    "# decide layers to train\n",
    "\n",
    "# set optimizer, lr_scheduler, criterion\n",
    "criterion = SoftTargetCrossEntropy() # for mixup\n",
    "optimizer = optim.SGD(model.parameters(),\n",
    "                          lr=LR,\n",
    "                          momentum=0.9,\n",
    "                          weight_decay=1e-4)\n",
    "scheduler = torch.optim.lr_scheduler.MultiStepLR(optimizer,\n",
    "                                                     milestones=[100, 150],\n",
    "                                                     gamma=0.1,\n",
    "                                                     last_epoch=-1)\n",
    "    \n",
    "# Evaluation\n",
    "model.eval()\n",
    "eval_loss, top1_acc, top5_acc = evaluate_model(model=model,\n",
    "                                              test_loader=data_loader_val,\n",
    "                                              device=device,\n",
    "                                              criterion=criterion)\n",
    "print(\"Epoch: {:02d} Eval Loss: {:.3f} Top1: {:.3f} Top5: {:.3f}\".format(\n",
    "    -1, eval_loss, top1_acc, top5_acc))\n",
    "\n",
    "# start training"
   ]
  },
  {
   "cell_type": "markdown",
   "id": "1cba8fdb-1cd7-4953-b936-34dbdb52da26",
   "metadata": {},
   "source": [
    "## Quantize"
   ]
  },
  {
   "cell_type": "code",
   "execution_count": null,
   "id": "fb54c48a-cc2b-4e15-b04d-f934385dc8e7",
   "metadata": {},
   "outputs": [],
   "source": [
    "resmlp.train()\n",
    "resmlp.qconfig = torch.quantization.get_default_qat_qconfig('qnnpack')\n",
    "#model_fp32_fused = torch.quantization.fuse_modules(resmlp, [['blocks.mlp', 'relu']])\n",
    "model_fp32_prepared = torch.quantization.prepare_qat(resmlp.cuda(), inplace=True)\n",
    "#training_loop(model_fp32_prepared)\n",
    "model_fp32_prepared.eval()\n",
    "model_fp32_prepared.cpu()\n",
    "\n",
    "#input_fp32 = torch.randn((1, 3, 224, 224), dtype=torch.float32, device=\"cuda\")\n",
    "#model_fp32_prepared(input_fp32)\n",
    "\n",
    "input_fp32 = torch.randn((1, 3, 224, 224), dtype=torch.float32, device=\"cpu\")\n",
    "model_int8 = torch.quantization.convert(model_fp32_prepared)\n",
    "model_int8(input_fp32)"
   ]
  },
  {
   "cell_type": "code",
   "execution_count": 13,
   "id": "44481b44-712b-46e6-97ec-f0e9ebf9388c",
   "metadata": {},
   "outputs": [],
   "source": [
    "#for name, value in resmlp.named_parameters():\n",
    "#    print(name)"
   ]
  }
 ],
 "metadata": {
  "kernelspec": {
   "display_name": "Python 3 (ipykernel)",
   "language": "python",
   "name": "python3"
  },
  "language_info": {
   "codemirror_mode": {
    "name": "ipython",
    "version": 3
   },
   "file_extension": ".py",
   "mimetype": "text/x-python",
   "name": "python",
   "nbconvert_exporter": "python",
   "pygments_lexer": "ipython3",
   "version": "3.8.13"
  }
 },
 "nbformat": 4,
 "nbformat_minor": 5
}
